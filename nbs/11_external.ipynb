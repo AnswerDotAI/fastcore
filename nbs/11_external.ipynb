{
 "cells": [
  {
   "cell_type": "code",
   "execution_count": null,
   "id": "84424ee0",
   "metadata": {},
   "outputs": [],
   "source": [
    "#|hide\n",
    "from nbdev.showdoc import *\n",
    "from fastcore.utils import *\n",
    "from IPython.display import HTML"
   ]
  },
  {
   "cell_type": "markdown",
   "id": "38f5d4d8",
   "metadata": {},
   "source": [
    "# External modules"
   ]
  },
  {
   "cell_type": "markdown",
   "id": "917d045d",
   "metadata": {},
   "source": [
    "fastcore includes functionality from some modules from other projects that have been copied here, in cases where the original is no longer maintained, or where the original includes dependencies that we'd rather avoid."
   ]
  },
  {
   "cell_type": "markdown",
   "id": "6de4cd08",
   "metadata": {},
   "source": [
    "## imghdr"
   ]
  },
  {
   "cell_type": "markdown",
   "id": "da14c2f4",
   "metadata": {},
   "source": [
    "fastcore includes a copy of the Python standard library's `imghdr` module, which was deprecated in Python 3.11, and removed in 3.13. However since it's still widely used (including within fastcore), we are providing it here. We have also added some fixes to the automatic detection."
   ]
  },
  {
   "cell_type": "code",
   "execution_count": null,
   "id": "d24fc389",
   "metadata": {},
   "outputs": [],
   "source": [
    "from fastcore.imghdr import what,tests"
   ]
  },
  {
   "cell_type": "code",
   "execution_count": null,
   "id": "912911b4",
   "metadata": {},
   "outputs": [
    {
     "data": {
      "text/plain": [
       "'jpeg'"
      ]
     },
     "execution_count": null,
     "metadata": {},
     "output_type": "execute_result"
    }
   ],
   "source": [
    "what('images/puppy.jpg')"
   ]
  },
  {
   "cell_type": "markdown",
   "id": "a48ef98e",
   "metadata": {},
   "source": [
    "These are the tests provided:"
   ]
  },
  {
   "cell_type": "code",
   "execution_count": null,
   "id": "a17b5a9b",
   "metadata": {},
   "outputs": [
    {
     "name": "stdout",
     "output_type": "stream",
     "text": [
      "test_jpeg, test_png, test_gif, test_tiff, test_rgb, test_pbm, test_pgm, test_ppm, test_rast, test_xbm, test_bmp, test_webp, test_exr\n"
     ]
    }
   ],
   "source": [
    "print(', '.join(t.__name__ for t in tests))"
   ]
  },
  {
   "cell_type": "markdown",
   "id": "13fda770",
   "metadata": {},
   "source": [
    "## ansi"
   ]
  },
  {
   "cell_type": "markdown",
   "id": "2f18f18d",
   "metadata": {},
   "source": [
    "[nbconvert](https://github.com/jupyter/nbconvert/blob/main/nbconvert/filters/ansi.py) provides handy functionality to convert ansi terminal codes to HTML, which we've copied to fastcore so they can be used without nbconvert's prequisites. Also nbconvert doesn't document them, so we're showing some examples here."
   ]
  },
  {
   "cell_type": "code",
   "execution_count": null,
   "id": "d346cd0f",
   "metadata": {},
   "outputs": [],
   "source": [
    "from fastcore.ansi import ansi2html,strip_ansi"
   ]
  },
  {
   "cell_type": "code",
   "execution_count": null,
   "id": "877e0f15",
   "metadata": {},
   "outputs": [],
   "source": [
    "ansi_test = \"\"\"\\x1b[0;31m---------------------------------------------------------------------------\\x1b[0m\n",
    "\\x1b[0;31mZeroDivisionError\\x1b[0m                         Traceback (most recent call last)\n",
    "File \\x1b[0;32m<input-1>:1\\x1b[0m\n",
    "\\x1b[0;32m----> 1\\x1b[0m \\x1b[38;5;241m1\\x1b[39m\\x1b[38;5;241m/\\x1b[39m\\x1b[38;5;241m0\\x1b[39m\n",
    "\n",
    "\\x1b[0;31mZeroDivisionError\\x1b[0m: division by zero\"\"\""
   ]
  },
  {
   "cell_type": "code",
   "execution_count": null,
   "id": "9deb6835",
   "metadata": {},
   "outputs": [
    {
     "name": "stdout",
     "output_type": "stream",
     "text": [
      "<span class=\"ansi-red-fg\">---------------------------------------------------------------------------</span>\n",
      "<span class=\"ansi-red-fg\">ZeroDivisionError</span>                         Traceback (most recent call last)\n",
      "File <span class=\"ansi-green-fg\">&lt;input-1&gt;:1</span>\n",
      "<span class=\"ansi-green-fg\">----&gt; 1</span> <span style=\"color: rgb(98,98,98)\">1</span><span style=\"color: rgb(98,98,98)\">/</span><span style=\"color: rgb(98,98,98)\">0</span>\n",
      "\n",
      "<span class=\"ansi-red-fg\">ZeroDivisionError</span>: division by zero\n"
     ]
    }
   ],
   "source": [
    "out = ansi2html(ansi_test)\n",
    "print(out)"
   ]
  },
  {
   "cell_type": "code",
   "execution_count": null,
   "id": "57d28b0a",
   "metadata": {},
   "outputs": [
    {
     "data": {
      "text/html": [
       "<pre><div><span class=\"ansi-red-fg\">---------------------------------------------------------------------------</span></div><div><span class=\"ansi-red-fg\">ZeroDivisionError</span>                         Traceback (most recent call last)</div><div>File <span class=\"ansi-green-fg\">&lt;input-1&gt;:1</span></div><div><span class=\"ansi-green-fg\">----&gt; 1</span> <span style=\"color: rgb(98,98,98)\">1</span><span style=\"color: rgb(98,98,98)\">/</span><span style=\"color: rgb(98,98,98)\">0</span></div><div></div><div><span class=\"ansi-red-fg\">ZeroDivisionError</span>: division by zero</div><pre>"
      ],
      "text/plain": [
       "<IPython.core.display.HTML object>"
      ]
     },
     "execution_count": null,
     "metadata": {},
     "output_type": "execute_result"
    }
   ],
   "source": [
    "test_err = ''.join([f\"<div>{o}</div>\" for o in out.splitlines()])\n",
    "HTML(f'<pre>{test_err}<pre>')"
   ]
  },
  {
   "cell_type": "code",
   "execution_count": null,
   "id": "93895b9e",
   "metadata": {},
   "outputs": [
    {
     "name": "stdout",
     "output_type": "stream",
     "text": [
      "---------------------------------------------------------------------------\n",
      "ZeroDivisionError                         Traceback (most recent call last)\n",
      "File <ipython-input-1-9e1622b385b6>:1\n",
      "----> 1 1/0\n",
      "\n",
      "ZeroDivisionError: division by zero\n"
     ]
    }
   ],
   "source": [
    "print(strip_ansi(ansi_test))"
   ]
  },
  {
   "cell_type": "code",
   "execution_count": null,
   "id": "ce817290",
   "metadata": {},
   "outputs": [],
   "source": []
  }
 ],
 "metadata": {
  "kernelspec": {
   "display_name": "python3",
   "language": "python",
   "name": "python3"
  }
 },
 "nbformat": 4,
 "nbformat_minor": 5
}
