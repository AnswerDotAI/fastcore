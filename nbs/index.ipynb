{
 "cells": [
  {
   "cell_type": "code",
   "execution_count": null,
   "metadata": {},
   "outputs": [],
   "source": [
    "#|hide\n",
    "from nbdev.showdoc import *\n",
    "from fastcore.all import *\n",
    "import numpy as np,numbers"
   ]
  },
  {
   "cell_type": "markdown",
   "metadata": {},
   "source": [
    "# Welcome to fastcore\n",
    "\n",
    "> Python goodies to make your coding faster, easier, and more maintainable"
   ]
  },
  {
   "cell_type": "markdown",
   "metadata": {},
   "source": [
    "Python is a powerful, dynamic language. Rather than bake everything into the language, it lets the programmer customize it to make it work for them. `fastcore` uses this flexibility to add to Python features inspired by other languages we've loved, like multiple dispatch from Julia, mixins from Ruby, and currying, binding, and more from Haskell. It also adds some \"missing features\" and clean up some rough edges in the Python standard library, such as simplifying parallel processing, and bringing ideas from NumPy over to Python's `list` type."
   ]
  },
  {
   "cell_type": "markdown",
   "metadata": {},
   "source": [
    "## Getting started"
   ]
  },
  {
   "cell_type": "markdown",
   "metadata": {},
   "source": [
    "To install fastcore run: `conda install fastcore -c fastai` (if you use Anaconda, which we recommend) or `pip install fastcore`. For an [editable install](https://stackoverflow.com/questions/35064426/when-would-the-e-editable-option-be-useful-with-pip-install), clone this repo and run: `pip install -e \".[dev]\"`. fastcore is tested to work on Ubuntu, macOS and Windows (versions tested are those show with the `-latest` suffix [here](https://docs.github.com/en/actions/reference/specifications-for-github-hosted-runners#supported-runners-and-hardware-resources).   \n",
    "\n",
    "`fastcore` contains many features, including:\n",
    "\n",
    "- `fastcore.test`: Simple testing functions\n",
    "- `fastcore.foundation`: Mixins, delegation, composition, and more\n",
    "- `fastcore.xtras`: Utility functions to help with functional-style programming, parallel processing, and more\n",
    "- `fastcore.dispatch`: Multiple dispatch methods\n",
    "- `fastcore.transform`: Pipelines of composed partially reversible transformations\n",
    "\n",
    "To get started, we recommend you read through [the fastcore tour](https://fastcore.fast.ai/tour.html)."
   ]
  },
  {
   "cell_type": "markdown",
   "metadata": {},
   "source": [
    "## Contributing"
   ]
  },
  {
   "cell_type": "markdown",
   "metadata": {},
   "source": [
    "### How to get started\n",
    "\n",
    "Before anything else, please install the git hooks that run automatic scripts during each commit and merge to strip the notebooks of suerpfluous metadata (and avoid merge conflicts). After cloning the repository, run the following command inside it:\n",
    "```\n",
    "nbdev_install_hooks\n",
    "```\n",
    "\n",
    "To run the tests in parallel, launch `nbdev_test`.\n",
    "\n",
    "### Did you find a bug?\n",
    "\n",
    "* Ensure the bug was not already reported by searching on GitHub under Issues.\n",
    "* If you're unable to find an open issue addressing the problem, open a new one. Be sure to include a title and clear description, as much relevant information as possible, and a code sample or an executable test case demonstrating the expected behavior that is not occurring.\n",
    "* Be sure to add the complete error messages.\n",
    "\n",
    "##### Did you write a patch that fixes a bug?\n",
    "\n",
    "* Open a new GitHub pull request with the patch.\n",
    "* Ensure that your PR includes a test that fails without your patch, and pass with it.\n",
    "* Ensure the PR description clearly describes the problem and solution. Include the relevant issue number if applicable.\n",
    "\n",
    "### Submitting a PR\n",
    "\n",
    "#### Before submitting a PR, check that the local library and notebooks match.\n",
    "\n",
    "* If you made a change to the notebooks in one of the exported cells, you can export it to the library with `nbdev_prepare`.\n",
    "* If you made a change to the library, you can export it back to the notebooks with `nbdev_update`.\n",
    "\n",
    "#### PR submission guidelines\n",
    "* Keep each PR focused. While it's more convenient, do not combine several unrelated fixes together. Create as many branches as needing to keep each PR focused.\n",
    "* Do not mix style changes/fixes with \"functional\" changes. It's very difficult to review such PRs and it most likely get rejected.\n",
    "* Do not add/remove vertical whitespace. Preserve the original style of the file you edit as much as you can.\n",
    "* Do not turn an already submitted PR into your development playground. If after you submitted PR, you discovered that more work is needed - close the PR, do the required work and then submit a new PR. Otherwise each of your commits requires attention from maintainers of the project.\n",
    "* If, however, you submitted a PR and received a request for changes, you should proceed with commits inside that PR, so that the maintainer can see the incremental fixes and won't need to review the whole PR again. In the exception case where you realize it'll take many many commits to complete the requests, then it's probably best to close the PR, do the work and then submit it again. Use common sense where you'd choose one way over another.\n",
    "\n",
    "### Do you want to contribute to the documentation?\n",
    "\n",
    "* Docs are automatically created from the notebooks in the nbs folder.\n",
    "\n"
   ]
  },
  {
   "cell_type": "code",
   "execution_count": null,
   "metadata": {},
   "outputs": [],
   "source": []
  }
 ],
 "metadata": {
  "jupytext": {
   "split_at_heading": true
  },
  "kernelspec": {
   "display_name": "Python 3.7.15 ('fastcore-wZINr0y3')",
   "language": "python",
   "name": "python3"
  }
 },
 "nbformat": 4,
 "nbformat_minor": 4
}
