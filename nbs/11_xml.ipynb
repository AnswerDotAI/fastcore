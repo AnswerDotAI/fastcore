{
 "cells": [
  {
   "cell_type": "code",
   "execution_count": 1,
   "id": "d0c84aa5",
   "metadata": {},
   "outputs": [],
   "source": [
    "#| default_exp xml"
   ]
  },
  {
   "cell_type": "markdown",
   "id": "61bf8203",
   "metadata": {},
   "source": [
    "# XML\n",
    "\n",
    "> Concise generation of XML."
   ]
  },
  {
   "cell_type": "code",
   "execution_count": 36,
   "id": "55944805",
   "metadata": {},
   "outputs": [],
   "source": [
    "#| export\n",
    "from fastcore.utils import *\n",
    "\n",
    "from dataclasses import dataclass, asdict\n",
    "import types\n",
    "from functools import partial\n",
    "from html import escape"
   ]
  },
  {
   "cell_type": "code",
   "execution_count": 3,
   "id": "42d18e5c",
   "metadata": {},
   "outputs": [],
   "source": [
    "from IPython.display import Markdown\n",
    "from pprint import pprint"
   ]
  },
  {
   "cell_type": "code",
   "execution_count": 4,
   "id": "4dbb9a59",
   "metadata": {},
   "outputs": [],
   "source": [
    "#| export\n",
    "def _attrmap(o):\n",
    "    o = dict(htmlClass='class', cls='class', klass='class', fr='for', htmlFor='for').get(o, o)\n",
    "    return o.lstrip('_').replace('_', '-')"
   ]
  },
  {
   "cell_type": "code",
   "execution_count": 5,
   "id": "725f87d7",
   "metadata": {},
   "outputs": [],
   "source": [
    "#| export\n",
    "named = set('a button form frame iframe img input map meta object param select textarea'.split())"
   ]
  },
  {
   "cell_type": "code",
   "execution_count": 6,
   "id": "149067dd",
   "metadata": {},
   "outputs": [],
   "source": [
    "#|export\n",
    "class XT(list): patch"
   ]
  },
  {
   "cell_type": "code",
   "execution_count": 7,
   "id": "06718948",
   "metadata": {},
   "outputs": [],
   "source": [
    "#| export\n",
    "def xt(tag:str, *c, **kw):\n",
    "    \"Create an XML tag structure `[tag,children,attrs]` for `toxml()`\"\n",
    "    if len(c)==1 and isinstance(c[0], types.GeneratorType): c = tuple(c[0])\n",
    "    kw = {_attrmap(k):str(v) for k,v in kw.items()}\n",
    "    if tag in named and 'id' in kw and 'name' not in kw: kw['name'] = kw['id']\n",
    "    return XT([tag.lower(),c,kw])"
   ]
  },
  {
   "cell_type": "code",
   "execution_count": 8,
   "id": "45489975",
   "metadata": {},
   "outputs": [],
   "source": [
    "#| export\n",
    "_g = globals()\n",
    "_all_ = ['Html', 'Head', 'Title', 'Meta', 'Link', 'Style', 'Body', 'Pre', 'Code',\n",
    "'Div', 'Span', 'P', 'H1', 'H2', 'H3', 'H4', 'H5', 'H6', 'Strong', 'Em', 'B',\n",
    "'I', 'U', 'S', 'Strike', 'Sub', 'Sup', 'Hr', 'Br', 'Img', 'A', 'Link', 'Nav',\n",
    "'Ul', 'Ol', 'Li', 'Dl', 'Dt', 'Dd', 'Table', 'Thead', 'Tbody', 'Tfoot', 'Tr',\n",
    "'Th', 'Td', 'Caption', 'Col', 'Colgroup', 'Form', 'Input', 'Textarea',\n",
    "'Button', 'Select', 'Option', 'Label', 'Fieldset', 'Legend', 'Details',\n",
    "'Summary', 'Main', 'Header', 'Footer', 'Section', 'Article', 'Aside', 'Figure',\n",
    "'Figcaption', 'Mark', 'Small', 'Iframe', 'Object', 'Embed', 'Param', 'Video',\n",
    "'Audio', 'Source', 'Canvas', 'Svg', 'Math', 'Script', 'Noscript', 'Template', 'Slot']\n",
    "\n",
    "for o in _all_: _g[o] = partial(xt, o.lower())"
   ]
  },
  {
   "cell_type": "markdown",
   "id": "732e44ab",
   "metadata": {},
   "source": [
    "The main HTML tags are exported as `xt` partials.\n",
    "\n",
    "Attributes are passed as keywords. Use 'klass' and 'fr' instead of 'class' and 'for', to avoid Python reserved word clashes."
   ]
  },
  {
   "cell_type": "code",
   "execution_count": 9,
   "id": "9a8b4ddb",
   "metadata": {},
   "outputs": [
    {
     "name": "stdout",
     "output_type": "stream",
     "text": [
      "['html',\n",
      " (['head', (['title', ('Some page',), {}],), {}],\n",
      "  ['body',\n",
      "   (['div',\n",
      "     (['p', ('Some text',), {}],\n",
      "      ['input', (), {'name': 'me'}],\n",
      "      ['img', (), {'src': 'filename'}]),\n",
      "     {'class': 'myclass'}],),\n",
      "   {}]),\n",
      " {}]\n"
     ]
    }
   ],
   "source": [
    "samp = Html(\n",
    "    Head(Title('Some page')),\n",
    "    Body(Div(P('Some text'), Input(name='me'), Img(src=\"filename\"), klass='myclass'))\n",
    ")\n",
    "pprint(samp)"
   ]
  },
  {
   "cell_type": "markdown",
   "id": "1b030be9",
   "metadata": {},
   "source": [
    "For tags that have a `name` attribute, it will be set to the value of `id` if not provided explicitly:"
   ]
  },
  {
   "cell_type": "code",
   "execution_count": 10,
   "id": "b781057c",
   "metadata": {},
   "outputs": [
    {
     "name": "stdout",
     "output_type": "stream",
     "text": [
      "['button', (), {'id': 'btn', 'name': 'btn'}]\n"
     ]
    }
   ],
   "source": [
    "pprint(Button(id='btn'))"
   ]
  },
  {
   "cell_type": "code",
   "execution_count": 11,
   "id": "430aa9d9",
   "metadata": {},
   "outputs": [],
   "source": [
    "#| export\n",
    "def Checkbox(value:bool=False, **kw):\n",
    "    checked = {\"checked\":\"1\"} if value else {}\n",
    "    return Input(type=\"checkbox\", **checked, **kw)"
   ]
  },
  {
   "cell_type": "code",
   "execution_count": 12,
   "id": "461bcf58",
   "metadata": {},
   "outputs": [],
   "source": [
    "#| export\n",
    "def Hidden(value:str=\"\", **kw):\n",
    "    return Input(type=\"hidden\", value=value, **kw)"
   ]
  },
  {
   "cell_type": "code",
   "execution_count": 13,
   "id": "c7de63a4",
   "metadata": {},
   "outputs": [],
   "source": [
    "#| export\n",
    "voids = set('area base br col command embed hr img input keygen link meta param source track wbr'.split())"
   ]
  },
  {
   "cell_type": "code",
   "execution_count": 14,
   "id": "b89d088a",
   "metadata": {},
   "outputs": [],
   "source": [
    "#| export\n",
    "def to_xml(elm, lvl=0):\n",
    "    \"Convert `xt` element tree into an XML string\"\n",
    "    if isinstance(elm, tuple): return '\\n'.join(to_xml(o) for o in elm)\n",
    "    if hasattr(elm, '__xt__'): elm = elm.__xt__()\n",
    "    sp = ' ' * lvl\n",
    "    if not isinstance(elm, list):\n",
    "        if isinstance(elm, str): elm = escape(elm)\n",
    "        return f'{elm}\\n'\n",
    "\n",
    "    tag,cs,attrs = elm\n",
    "    stag = tag\n",
    "    if attrs:\n",
    "        sattrs = (f'{k}=\"{escape(str(v), quote=False)}\"' for k,v in attrs.items())\n",
    "        stag += ' ' + ' '.join(sattrs)\n",
    "    \n",
    "    cltag = '' if tag in voids else f'</{tag}>'\n",
    "    if not cs: return f'{sp}<{stag}>{cltag}\\n'\n",
    "    res = f'{sp}<{stag}>\\n'\n",
    "    res += ''.join(to_xml(c, lvl=lvl+2) for c in cs)\n",
    "    if tag not in voids: res += f'{sp}{cltag}\\n'\n",
    "    return res"
   ]
  },
  {
   "cell_type": "code",
   "execution_count": 15,
   "id": "d3d23c48",
   "metadata": {},
   "outputs": [
    {
     "name": "stdout",
     "output_type": "stream",
     "text": [
      "<html>\n",
      "  <head>\n",
      "    <title>\n",
      "Some page\n",
      "    </title>\n",
      "  </head>\n",
      "  <body>\n",
      "    <div class=\"myclass\">\n",
      "      <p>\n",
      "Some text\n",
      "      </p>\n",
      "      <input name=\"me\">\n",
      "      <img src=\"filename\">\n",
      "    </div>\n",
      "  </body>\n",
      "</html>\n",
      "\n"
     ]
    }
   ],
   "source": [
    "print(to_xml(samp))"
   ]
  },
  {
   "cell_type": "code",
   "execution_count": 16,
   "id": "798ae1d2",
   "metadata": {},
   "outputs": [],
   "source": [
    "@patch\n",
    "def _repr_markdown_(self:XT):\n",
    "    try: from IPython import display\n",
    "    except ImportError: return repr(self)\n",
    "    return f'```html\\n{to_xml(self)}\\n```'"
   ]
  },
  {
   "cell_type": "markdown",
   "id": "107d5912",
   "metadata": {},
   "source": [
    "Automatic syntax highlighted output in notebooks:"
   ]
  },
  {
   "cell_type": "code",
   "execution_count": 17,
   "id": "b94a79b9",
   "metadata": {},
   "outputs": [
    {
     "data": {
      "text/markdown": [
       "```html\n",
       "<html>\n",
       "  <head>\n",
       "    <title>\n",
       "Some page\n",
       "    </title>\n",
       "  </head>\n",
       "  <body>\n",
       "    <div class=\"myclass\">\n",
       "      <p>\n",
       "Some text\n",
       "      </p>\n",
       "      <input name=\"me\">\n",
       "      <img src=\"filename\">\n",
       "    </div>\n",
       "  </body>\n",
       "</html>\n",
       "\n",
       "```"
      ],
      "text/plain": [
       "['html',\n",
       " (['head', (['title', ('Some page',), {}],), {}],\n",
       "  ['body',\n",
       "   (['div',\n",
       "     (['p', ('Some text',), {}],\n",
       "      ['input', (), {'name': 'me'}],\n",
       "      ['img', (), {'src': 'filename'}]),\n",
       "     {'class': 'myclass'}],),\n",
       "   {}]),\n",
       " {}]"
      ]
     },
     "execution_count": 17,
     "metadata": {},
     "output_type": "execute_result"
    }
   ],
   "source": [
    "samp"
   ]
  },
  {
   "cell_type": "code",
   "execution_count": 25,
   "id": "0e5a0e2e",
   "metadata": {},
   "outputs": [],
   "source": [
    "#| export\n",
    "def set_val(tag, attr, val):\n",
    "    if attr.get('type', '') in ('checkbox','radio'):\n",
    "        if val: attr['checked'] = '1'\n",
    "        else: attr.pop('checked', '')\n",
    "    else: attr['value'] = val"
   ]
  },
  {
   "cell_type": "code",
   "execution_count": 32,
   "id": "f0c83f26",
   "metadata": {},
   "outputs": [],
   "source": [
    "#| export\n",
    "def fill_form(form, obj):\n",
    "    \"Modifies form in-place and returns it\"\n",
    "    inps = {attrs['id']:(tag,attrs) for tag,c,attrs in form[1] if 'id' in attrs}\n",
    "    for nm,val in asdict(obj).items():\n",
    "        if nm in inps:\n",
    "            tag,attr = inps[nm]\n",
    "            set_val(tag, attr, val)\n",
    "    return form"
   ]
  },
  {
   "cell_type": "code",
   "execution_count": 33,
   "id": "caef04d9",
   "metadata": {},
   "outputs": [
    {
     "data": {
      "text/markdown": [
       "```html\n",
       "<form>\n",
       "  <input id=\"title\" name=\"title\" value=\"Profit\">\n",
       "  <input type=\"checkbox\" id=\"done\" name=\"done\" checked=\"1\">\n",
       "  <input type=\"hidden\" value=\"2\" id=\"id\" name=\"id\">\n",
       "  <button>\n",
       "Save\n",
       "  </button>\n",
       "</form>\n",
       "\n",
       "```"
      ],
      "text/plain": [
       "['form',\n",
       " (['input', (), {'id': 'title', 'name': 'title', 'value': 'Profit'}],\n",
       "  ['input',\n",
       "   (),\n",
       "   {'type': 'checkbox', 'id': 'done', 'name': 'done', 'checked': '1'}],\n",
       "  ['input', (), {'type': 'hidden', 'value': 2, 'id': 'id', 'name': 'id'}],\n",
       "  ['button', ('Save',), {}]),\n",
       " {}]"
      ]
     },
     "execution_count": 33,
     "metadata": {},
     "output_type": "execute_result"
    }
   ],
   "source": [
    "@dataclass\n",
    "class TodoItem:\n",
    "    title:str; id:int; done:bool\n",
    "                \n",
    "todo = TodoItem(id=2, title=\"Profit\", done=True)\n",
    "form = Form(Input(id=\"title\"), Checkbox(id=\"done\"),\n",
    "            Hidden(id=\"id\"), Button(\"Save\"))\n",
    "fill_form(form, todo)"
   ]
  },
  {
   "cell_type": "code",
   "execution_count": 39,
   "id": "8b171490",
   "metadata": {},
   "outputs": [],
   "source": [
    "#|export\n",
    "def fill_dataclass(src, dest):\n",
    "    \"Modifies dataclass in-place and returns it\"\n",
    "    for nm,val in asdict(src).items(): setattr(dest, nm, val)\n",
    "    return dest"
   ]
  },
  {
   "cell_type": "code",
   "execution_count": 40,
   "id": "77e3f785",
   "metadata": {},
   "outputs": [
    {
     "data": {
      "text/plain": [
       "TodoItem(title='Profit', id=2, done=True)"
      ]
     },
     "execution_count": 40,
     "metadata": {},
     "output_type": "execute_result"
    }
   ],
   "source": [
    "nt = TodoItem('', 0, False)\n",
    "fill_dataclass(todo, nt)\n",
    "nt"
   ]
  },
  {
   "cell_type": "markdown",
   "id": "df973d4e",
   "metadata": {},
   "source": [
    "# Export -"
   ]
  },
  {
   "cell_type": "code",
   "execution_count": 41,
   "id": "ad32b076",
   "metadata": {},
   "outputs": [],
   "source": [
    "#|hide\n",
    "import nbdev; nbdev.nbdev_export()"
   ]
  },
  {
   "cell_type": "code",
   "execution_count": null,
   "id": "84fe290c",
   "metadata": {},
   "outputs": [],
   "source": []
  }
 ],
 "metadata": {
  "kernelspec": {
   "display_name": "Python 3 (ipykernel)",
   "language": "python",
   "name": "python3"
  },
  "language_info": {
   "codemirror_mode": {
    "name": "ipython",
    "version": 3
   },
   "file_extension": ".py",
   "mimetype": "text/x-python",
   "name": "python",
   "nbconvert_exporter": "python",
   "pygments_lexer": "ipython3",
   "version": "3.11.8"
  }
 },
 "nbformat": 4,
 "nbformat_minor": 5
}
