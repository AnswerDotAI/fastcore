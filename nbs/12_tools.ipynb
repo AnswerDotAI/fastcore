{
 "cells": [
  {
   "cell_type": "code",
   "execution_count": null,
   "id": "7e9376d5",
   "metadata": {},
   "outputs": [],
   "source": [
    "#|default_exp tools"
   ]
  },
  {
   "cell_type": "code",
   "execution_count": null,
   "id": "cf0e7f77",
   "metadata": {},
   "outputs": [],
   "source": [
    "#|export\n",
    "from pathlib import Path\n",
    "from shlex import split\n",
    "from subprocess import run"
   ]
  },
  {
   "cell_type": "code",
   "execution_count": null,
   "id": "eb5c56ad",
   "metadata": {},
   "outputs": [],
   "source": [
    "#|hide\n",
    "from fastcore.test import test_eq"
   ]
  },
  {
   "cell_type": "markdown",
   "id": "388e204d",
   "metadata": {},
   "source": [
    "# Computer Tools\n",
    "\n",
    "> Helpful tools for running cli commands and reading, modifying, and creating files in python. This is used primarily for AI's in tool loops for automating tasks involving the filesystem."
   ]
  },
  {
   "cell_type": "markdown",
   "id": "d123c1b4",
   "metadata": {},
   "source": [
    "## Bash Tools\n",
    "\n",
    "A utility function for running any cli command from python and return the output as a string."
   ]
  },
  {
   "cell_type": "code",
   "execution_count": null,
   "id": "c41952a1",
   "metadata": {},
   "outputs": [],
   "source": [
    "#| export\n",
    "def run_cmd(cmd:str, argstr:str):\n",
    "    \"Run the cli `cmd` with the given arguments. Returns the stdout and stderr as a concatted string.\"\n",
    "    res = run([cmd] + split(argstr), capture_output=True, text=True)\n",
    "    return res.stdout + '\\n' + res.stderr"
   ]
  },
  {
   "cell_type": "markdown",
   "id": "e9435682",
   "metadata": {},
   "source": [
    "With this little function, we can now run any cli command:"
   ]
  },
  {
   "cell_type": "code",
   "execution_count": null,
   "id": "03fc41bb",
   "metadata": {},
   "outputs": [
    {
     "name": "stdout",
     "output_type": "stream",
     "text": [
      "_parallel_win.ipynb\n",
      "_quarto.yml\n",
      "00_test.ipynb\n",
      "000_tour.ipynb\n",
      "01_basics.ipynb\n",
      "02_foundation.ipynb\n",
      "03_xtras.ipynb\n",
      "03a_parallel.ipy\n"
     ]
    }
   ],
   "source": [
    "print(run_cmd('ls', '')[:128])"
   ]
  },
  {
   "cell_type": "markdown",
   "id": "d4f7038e",
   "metadata": {},
   "source": [
    "Let's create some useful functions from this that will allow for searching, reading and modifing content on the file system."
   ]
  },
  {
   "cell_type": "code",
   "execution_count": null,
   "id": "3bb4f479",
   "metadata": {},
   "outputs": [],
   "source": [
    "#| export\n",
    "def rg(argstr:str):\n",
    "    \"Run the `rg` command with the args in `argstr` (no need to backslash escape)\"\n",
    "    return run_cmd('rg', argstr)"
   ]
  },
  {
   "cell_type": "code",
   "execution_count": null,
   "id": "f9a5a76e",
   "metadata": {},
   "outputs": [
    {
     "name": "stdout",
     "output_type": "stream",
     "text": [
      "fastcore.fast.ai\n",
      "\n",
      "\n"
     ]
    }
   ],
   "source": [
    "print(rg('\"fastcore\" CNAME'))"
   ]
  },
  {
   "cell_type": "code",
   "execution_count": null,
   "id": "cf79bb0b",
   "metadata": {},
   "outputs": [],
   "source": [
    "#| export\n",
    "def sed(argstr:str):\n",
    "    \"Run the `sed` command with the args in `argstr` (e.g for reading a section of a file)\"\n",
    "    return run_cmd('sed', argstr)"
   ]
  },
  {
   "cell_type": "code",
   "execution_count": null,
   "id": "66413ea7",
   "metadata": {},
   "outputs": [
    {
     "name": "stdout",
     "output_type": "stream",
     "text": [
      "project:\n",
      "  type: website\n",
      "  pre-render: \n",
      "    - pysym2md --output_file apilist.txt fastcore\n",
      "  post-render: \n",
      "\n",
      "\n"
     ]
    }
   ],
   "source": [
    "print(sed('-n \"1,5 p\" _quarto.yml'))"
   ]
  },
  {
   "cell_type": "markdown",
   "id": "b9826e8c",
   "metadata": {},
   "source": [
    "## Text Editor Tools\n",
    "\n",
    "Python implementations of the text editor tools from [Anthropic](https://docs.claude.com/en/docs/agents-and-tools/tool-use/text-editor-tool). These tools are especially useful in an AI's tool loop. See [`claudette`](https://claudette.answer.ai/text_editor.html) for examples."
   ]
  },
  {
   "cell_type": "code",
   "execution_count": null,
   "id": "b7f4458b",
   "metadata": {},
   "outputs": [],
   "source": [
    "#| export\n",
    "def view(path:str, view_range:tuple[int,int]=None, nums:bool=False):\n",
    "    'View directory or file contents with optional line range and numbers'\n",
    "    try:\n",
    "        p = Path(path).expanduser().resolve()\n",
    "        if not p.exists(): return f'Error: File not found: {p}'\n",
    "        if p.is_dir():\n",
    "            res = [str(f) for f in p.glob('**/*') \n",
    "                   if not any(part.startswith('.') for part in f.relative_to(p).parts)]\n",
    "            return f'Directory contents of {p}:\\n' + '\\n'.join(res)\n",
    "        \n",
    "        lines = p.read_text().splitlines()\n",
    "        s,e = 1,len(lines)\n",
    "        if view_range:\n",
    "            s,e = view_range\n",
    "            if not (1 <= s <= len(lines)): return f'Error: Invalid start line {s}'\n",
    "            if e != -1 and not (s <= e <= len(lines)): return f'Error: Invalid end line {e}'\n",
    "            lines = lines[s-1:None if e==-1 else e]\n",
    "            \n",
    "        return '\\n'.join([f'{i+s-1:6d} │ {l}' for i,l in enumerate(lines,1)] if nums else lines)\n",
    "    except Exception as e: return f'Error viewing file: {str(e)}'"
   ]
  },
  {
   "cell_type": "markdown",
   "id": "e13aa480",
   "metadata": {},
   "source": [
    "With `view` you can show the contents of files and directories. What's particularly nice is that you can also specify line rangs and whether to have the output contain line numbers:"
   ]
  },
  {
   "cell_type": "code",
   "execution_count": null,
   "id": "872fb1d5",
   "metadata": {},
   "outputs": [
    {
     "name": "stdout",
     "output_type": "stream",
     "text": [
      "     1 │ project:\n",
      "     2 │   type: website\n",
      "     3 │   pre-render: \n",
      "     4 │     - pysym2md --output_file apilist.txt fastcore\n",
      "     5 │   post-render: \n"
     ]
    }
   ],
   "source": [
    "print(view('_quarto.yml', (1,5), nums=True))"
   ]
  },
  {
   "cell_type": "markdown",
   "id": "b9295eea",
   "metadata": {},
   "source": [
    "Here's what the output looks like when viewing a directory:"
   ]
  },
  {
   "cell_type": "code",
   "execution_count": null,
   "id": "c5a4d58e",
   "metadata": {},
   "outputs": [
    {
     "name": "stdout",
     "output_type": "stream",
     "text": [
      "Directory contents of /Users/nathan/aai-ws/fastcore/nbs:\n",
      "/Users/nathan/aai-ws/fastcore/nbs/llms.txt\n",
      "/Users/nathan/aai-ws/fastcor\n"
     ]
    }
   ],
   "source": [
    "print(view('.')[:128])"
   ]
  },
  {
   "cell_type": "code",
   "execution_count": null,
   "id": "6b131931",
   "metadata": {},
   "outputs": [],
   "source": [
    "#| export\n",
    "def create(path: str, file_text: str, overwrite:bool=False) -> str:\n",
    "    'Creates a new file with the given content at the specified path'\n",
    "    try:\n",
    "        p = Path(path)\n",
    "        if p.exists():\n",
    "            if not overwrite: return f'Error: File already exists: {p}'\n",
    "        p.parent.mkdir(parents=True, exist_ok=True)\n",
    "        p.write_text(file_text)\n",
    "        return f'Created file {p} containing:\\n{file_text}'\n",
    "    except Exception as e: return f'Error creating file: {str(e)}'"
   ]
  },
  {
   "cell_type": "markdown",
   "id": "3882a7ca",
   "metadata": {},
   "source": [
    "Now here is a function for creating files with specific contents:"
   ]
  },
  {
   "cell_type": "code",
   "execution_count": null,
   "id": "a9f09ed5",
   "metadata": {},
   "outputs": [
    {
     "name": "stdout",
     "output_type": "stream",
     "text": [
      "Created file test.txt containing:\n",
      "Hello, world!\n",
      "     1 │ Hello, world!\n"
     ]
    }
   ],
   "source": [
    "print(create('test.txt', 'Hello, world!'))"
   ]
  },
  {
   "cell_type": "markdown",
   "id": "7cdfd51c",
   "metadata": {},
   "source": [
    "NB: These tools have special behavior around errors. Since these have been speficially designed for work with LLMs, any exceptions created from there use is returned as a string to help them debug their work."
   ]
  },
  {
   "cell_type": "code",
   "execution_count": null,
   "id": "00429353",
   "metadata": {},
   "outputs": [
    {
     "name": "stdout",
     "output_type": "stream",
     "text": [
      "Error: File already exists: test.txt\n"
     ]
    }
   ],
   "source": [
    "print(create('test.txt', 'Hello, world!'))"
   ]
  },
  {
   "cell_type": "code",
   "execution_count": null,
   "id": "fdcfecf5",
   "metadata": {},
   "outputs": [
    {
     "name": "stdout",
     "output_type": "stream",
     "text": [
      "     1 │ Hello, world!\n"
     ]
    }
   ],
   "source": [
    "f = Path('test.txt')\n",
    "test_eq(f.exists(), True)\n",
    "print(view(f, nums=True))"
   ]
  },
  {
   "cell_type": "markdown",
   "id": "2d49ed04",
   "metadata": {},
   "source": [
    "Of course, you don't want to only be able to create new files, therefore, we have these next two functions for modifying their content:"
   ]
  },
  {
   "cell_type": "code",
   "execution_count": null,
   "id": "8b2d770e",
   "metadata": {},
   "outputs": [],
   "source": [
    "#| export\n",
    "def insert(path: str, insert_line: int, new_str: str) -> str:\n",
    "    'Insert new_str at specified line number'\n",
    "    try:\n",
    "        p = Path(path)\n",
    "        if not p.exists(): return f'Error: File not found: {p}'\n",
    "            \n",
    "        content = p.read_text().splitlines()\n",
    "        if not (0 <= insert_line <= len(content)): return f'Error: Invalid line number {insert_line}'\n",
    "            \n",
    "        content.insert(insert_line, new_str)\n",
    "        new_content = '\\n'.join(content)\n",
    "        p.write_text(new_content)\n",
    "        return f'Inserted text at line {insert_line} in {p}.\\nNew contents:\\n{new_content}'\n",
    "    except Exception as e: return f'Error inserting text: {str(e)}'"
   ]
  },
  {
   "cell_type": "code",
   "execution_count": null,
   "id": "95b85a3b",
   "metadata": {},
   "outputs": [
    {
     "name": "stdout",
     "output_type": "stream",
     "text": [
      "     1 │ Let's add a new line\n",
      "     2 │ Hello, world!\n"
     ]
    }
   ],
   "source": [
    "insert(f, 0, 'Let\\'s add a new line')\n",
    "print(view(f, nums=True))"
   ]
  },
  {
   "cell_type": "code",
   "execution_count": null,
   "id": "dab0629d",
   "metadata": {},
   "outputs": [],
   "source": [
    "#| export\n",
    "def str_replace(path: str, old_str: str, new_str: str) -> str:\n",
    "    'Replace first occurrence of old_str with new_str in file'\n",
    "    try:\n",
    "        p = Path(path)\n",
    "        if not p.exists(): return f'Error: File not found: {p}'\n",
    "            \n",
    "        content = p.read_text()\n",
    "        count = content.count(old_str)\n",
    "        \n",
    "        if count == 0: return 'Error: Text not found in file'\n",
    "        if count > 1: return f'Error: Multiple matches found ({count})'\n",
    "            \n",
    "        new_content = content.replace(old_str, new_str, 1)\n",
    "        p.write_text(new_content)\n",
    "        return f'Replaced text in {p}.\\nNew contents:\\n{new_content}'\n",
    "    except Exception as e: return f'Error replacing text: {str(e)}'"
   ]
  },
  {
   "cell_type": "code",
   "execution_count": null,
   "id": "bd1cf9cb",
   "metadata": {},
   "outputs": [
    {
     "name": "stdout",
     "output_type": "stream",
     "text": [
      "     1 │ Let's add a \n",
      "     2 │ Hello, world!\n"
     ]
    }
   ],
   "source": [
    "str_replace(f, 'new line', '')\n",
    "print(view(f, nums=True))\n",
    "f.unlink()"
   ]
  },
  {
   "cell_type": "markdown",
   "id": "22170216",
   "metadata": {},
   "source": [
    "# Export -"
   ]
  },
  {
   "cell_type": "code",
   "execution_count": null,
   "id": "736e92db",
   "metadata": {},
   "outputs": [],
   "source": [
    "#|hide\n",
    "import nbdev; nbdev.nbdev_export()"
   ]
  }
 ],
 "metadata": {},
 "nbformat": 4,
 "nbformat_minor": 5
}
