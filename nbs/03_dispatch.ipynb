{
 "cells": [
  {
   "cell_type": "code",
   "execution_count": null,
   "metadata": {},
   "outputs": [],
   "source": [
    "#default_exp dispatch"
   ]
  },
  {
   "cell_type": "code",
   "execution_count": null,
   "metadata": {},
   "outputs": [],
   "source": [
    "#export\n",
    "from fastcore.imports import *\n",
    "from fastcore.foundation import *\n",
    "from fastcore.utils import *\n",
    "from warnings import warn"
   ]
  },
  {
   "cell_type": "code",
   "execution_count": null,
   "metadata": {},
   "outputs": [],
   "source": [
    "from nbdev.showdoc import *\n",
    "from fastcore.test import *"
   ]
  },
  {
   "cell_type": "markdown",
   "metadata": {},
   "source": [
    "# Type dispatch\n",
    "\n",
    "> Basic single and dual parameter dispatch"
   ]
  },
  {
   "cell_type": "markdown",
   "metadata": {},
   "source": [
    "## Helpers"
   ]
  },
  {
   "cell_type": "code",
   "execution_count": null,
   "metadata": {},
   "outputs": [],
   "source": [
    "#exports\n",
    "def type_hints(f):\n",
    "    \"Same as `typing.get_type_hints` but returns `{}` if not allowed type\"\n",
    "    return typing.get_type_hints(f) if isinstance(f, typing._allowed_types) else {}"
   ]
  },
  {
   "cell_type": "code",
   "execution_count": null,
   "metadata": {},
   "outputs": [],
   "source": [
    "#export\n",
    "def anno_ret(func):\n",
    "    \"Get the return annotation of `func`\"\n",
    "    if not func: return None\n",
    "    ann = type_hints(func)\n",
    "    if not ann: return None\n",
    "    return ann.get('return')"
   ]
  },
  {
   "cell_type": "code",
   "execution_count": null,
   "metadata": {},
   "outputs": [],
   "source": [
    "#hide\n",
    "def f(x) -> float: return x\n",
    "test_eq(anno_ret(f), float)\n",
    "def f(x) -> typing.Tuple[float,float]: return x\n",
    "test_eq(anno_ret(f), typing.Tuple[float,float])\n",
    "def f(x) -> None: return x\n",
    "test_eq(anno_ret(f), NoneType)\n",
    "def f(x): return x\n",
    "test_eq(anno_ret(f), None)\n",
    "test_eq(anno_ret(None), None)"
   ]
  },
  {
   "cell_type": "code",
   "execution_count": null,
   "metadata": {},
   "outputs": [],
   "source": [
    "#export\n",
    "cmp_instance = functools.cmp_to_key(lambda a,b: 0 if a==b else 1 if issubclass(a,b) else -1)"
   ]
  },
  {
   "cell_type": "code",
   "execution_count": null,
   "metadata": {},
   "outputs": [],
   "source": [
    "td = {int:1, numbers.Number:2, numbers.Integral:3}\n",
    "test_eq(sorted(td, key=cmp_instance), [numbers.Number, numbers.Integral, int])"
   ]
  },
  {
   "cell_type": "code",
   "execution_count": null,
   "metadata": {},
   "outputs": [],
   "source": [
    "#export\n",
    "def _p2_anno(f):\n",
    "    \"Get the 1st 2 annotations of `f`, defaulting to `object`\"\n",
    "    hints = type_hints(f)\n",
    "    ann = [o for n,o in hints.items() if n!='return']\n",
    "    while len(ann)<2: ann.append(object)\n",
    "    return ann[:2]"
   ]
  },
  {
   "cell_type": "code",
   "execution_count": null,
   "metadata": {},
   "outputs": [],
   "source": [
    "def _f(a): pass\n",
    "test_eq(_p2_anno(_f), (object,object))\n",
    "def _f(a, b): pass\n",
    "test_eq(_p2_anno(_f), (object,object))\n",
    "def _f(a:None, b)->str: pass\n",
    "test_eq(_p2_anno(_f), (NoneType,object))\n",
    "def _f(a:str, b)->float: pass\n",
    "test_eq(_p2_anno(_f), (str,object))\n",
    "def _f(a:None, b:str)->float: pass\n",
    "test_eq(_p2_anno(_f), (NoneType,str))\n",
    "def _f(a:int, b:int)->float: pass\n",
    "test_eq(_p2_anno(_f), (int,int))\n",
    "def _f(self, a:int, b:int): pass\n",
    "test_eq(_p2_anno(_f), (int,int))\n",
    "def _f(a:int, b:str)->float: pass\n",
    "test_eq(_p2_anno(_f), (int,str))\n",
    "test_eq(_p2_anno(attrgetter('foo')), (object,object))"
   ]
  },
  {
   "cell_type": "markdown",
   "metadata": {},
   "source": [
    "## TypeDispatch -"
   ]
  },
  {
   "cell_type": "markdown",
   "metadata": {},
   "source": [
    "The following class is the basis that allows us to do type dipatch with type annotations. It contains a dictionary type -> functions and ensures that the proper function is called when passed an object (depending on its type)."
   ]
  },
  {
   "cell_type": "code",
   "execution_count": null,
   "metadata": {},
   "outputs": [],
   "source": [
    "#export\n",
    "class _TypeDict:\n",
    "    def __init__(self): self.d,self.cache = {},{}\n",
    "\n",
    "    def _reset(self):\n",
    "        self.d = {k:self.d[k] for k in sorted(self.d, key=cmp_instance, reverse=True)}\n",
    "        self.cache = {}\n",
    "\n",
    "    def add(self, t, f):\n",
    "        \"Add type `t` and function `f`\"\n",
    "        if not isinstance(t,tuple): t=tuple(L(t))\n",
    "        for t_ in t: self.d[t_] = f\n",
    "        self._reset()\n",
    "\n",
    "    def all_matches(self, k):\n",
    "        \"Find first matching type that is a super-class of `k`\"\n",
    "        if k not in self.cache:\n",
    "            types = [f for f in self.d if k==f or (isinstance(k,type) and issubclass(k,f))]\n",
    "            self.cache[k] = [self.d[o] for o in types]\n",
    "        return self.cache[k]\n",
    "\n",
    "    def __getitem__(self, k):\n",
    "        \"Find first matching type that is a super-class of `k`\"\n",
    "        res = self.all_matches(k)\n",
    "        return res[0] if len(res) else None\n",
    "\n",
    "    def __repr__(self): return self.d.__repr__()\n",
    "    def first(self): return first(self.d.values())"
   ]
  },
  {
   "cell_type": "code",
   "execution_count": null,
   "metadata": {},
   "outputs": [],
   "source": [
    "#export\n",
    "class TypeDispatch:\n",
    "    \"Dictionary-like object; `__getitem__` matches keys of types using `issubclass`\"\n",
    "    def __init__(self, funcs=(), bases=()):\n",
    "        self.funcs,self.bases = _TypeDict(),L(bases).filter(is_not(None))\n",
    "        for o in L(funcs): self.add(o)\n",
    "        self.inst = None\n",
    "\n",
    "    def add(self, f):\n",
    "        \"Add type `t` and function `f`\"\n",
    "        if f and getattr(f,'__defaults__',None): warn(f\"Function {f.__name__} has defaults parameters. These will be ignored.\")\n",
    "        a0,a1 = _p2_anno(f)\n",
    "        t = self.funcs.d.get(a0)\n",
    "        if t is None:\n",
    "            t = _TypeDict()\n",
    "            self.funcs.add(a0, t)\n",
    "        t.add(a1, f)\n",
    "\n",
    "    def first(self): return self.funcs.first().first()\n",
    "    def returns(self, x): return anno_ret(self[type(x)])\n",
    "    def returns_none(self, x):\n",
    "        r = anno_ret(self[type(x)])\n",
    "        return r if r == NoneType else None\n",
    "\n",
    "    def _attname(self,k): return getattr(k,'__name__',str(k))\n",
    "    def __repr__(self):\n",
    "        r = [f'({self._attname(k)},{self._attname(l)}) -> {getattr(v, \"__name__\", v.__class__.__name__)}'\n",
    "             for k in self.funcs.d for l,v in self.funcs[k].d.items()]\n",
    "        r = r + [o.__repr__() for o in self.bases]\n",
    "        return '\\n'.join(r)\n",
    "\n",
    "    def __call__(self, *args, **kwargs):\n",
    "        ts = L(args).map(type)[:2]\n",
    "        f = self[tuple(ts)]\n",
    "        if not f: return args[0]\n",
    "        if self.inst is not None: f = MethodType(f, self.inst)\n",
    "        return f(*args, **kwargs)\n",
    "\n",
    "    def __get__(self, inst, owner):\n",
    "        self.inst = inst\n",
    "        return self\n",
    "\n",
    "    def __getitem__(self, k):\n",
    "        \"Find first matching type that is a super-class of `k`\"\n",
    "        k = L(k)\n",
    "        while len(k)<2: k.append(object)\n",
    "        r = self.funcs.all_matches(k[0])\n",
    "        for t in r:\n",
    "            o = t[k[1]]\n",
    "            if o is not None: return o\n",
    "        for base in self.bases:\n",
    "            res = base[k]\n",
    "            if res is not None: return res\n",
    "        return None"
   ]
  },
  {
   "cell_type": "code",
   "execution_count": null,
   "metadata": {},
   "outputs": [
    {
     "data": {
      "text/plain": [
       "(list,object) -> f_bll\n",
       "(typing.Collection,object) -> f_col\n",
       "(bool,object) -> f_bll\n",
       "(int,object) -> f_ni2\n",
       "(Integral,object) -> f_nin\n",
       "(Number,object) -> f_num\n",
       "(object,object) -> NoneType"
      ]
     },
     "execution_count": null,
     "metadata": {},
     "output_type": "execute_result"
    }
   ],
   "source": [
    "def f_col(x:typing.Collection): return x\n",
    "def f_nin(x:numbers.Integral)->int:  return x+1\n",
    "def f_ni2(x:int): return x\n",
    "def f_bll(x:(bool,list)): return x\n",
    "def f_num(x:numbers.Number): return x\n",
    "t = TypeDispatch([f_nin,f_ni2,f_num,f_bll,None])\n",
    "\n",
    "t.add(f_ni2) #Should work even if we add the same function twice.\n",
    "test_eq(t[int], f_ni2)\n",
    "test_eq(t[np.int32], f_nin)\n",
    "test_eq(t[str], None)\n",
    "test_eq(t[float], f_num)\n",
    "test_eq(t[bool], f_bll)\n",
    "test_eq(t[list], f_bll)\n",
    "t.add(f_col)\n",
    "test_eq(t[str], f_col)\n",
    "test_eq(t[np.int32], f_nin)\n",
    "o = np.int32(1)\n",
    "test_eq(t(o), 2)\n",
    "test_eq(t.returns(o), int)\n",
    "assert t.first() is not None\n",
    "t"
   ]
  },
  {
   "cell_type": "markdown",
   "metadata": {},
   "source": [
    "If `bases` is set to a collection of `TypeDispatch` objects, then they are searched matching functions if no match is found in this object."
   ]
  },
  {
   "cell_type": "code",
   "execution_count": null,
   "metadata": {},
   "outputs": [],
   "source": [
    "def f_str(x:str): return x+'1'\n",
    "\n",
    "t2 = TypeDispatch(f_str, bases=t)\n",
    "test_eq(t2[int], f_ni2)\n",
    "test_eq(t2[np.int32], f_nin)\n",
    "test_eq(t2[float], f_num)\n",
    "test_eq(t2[bool], f_bll)\n",
    "test_eq(t2[str], f_str)\n",
    "test_eq(t2('a'), 'a1')\n",
    "test_eq(t2[np.int32], f_nin)\n",
    "test_eq(t2(o), 2)\n",
    "test_eq(t2.returns(o), int)"
   ]
  },
  {
   "cell_type": "code",
   "execution_count": null,
   "metadata": {},
   "outputs": [],
   "source": [
    "def m_nin(self, x:(str,numbers.Integral)): return str(x)+'1'\n",
    "def m_bll(self, x:bool): self.foo='a'\n",
    "def m_num(self, x:numbers.Number): return x*2\n",
    "\n",
    "t = TypeDispatch([m_nin,m_num,m_bll])\n",
    "class A: f = t\n",
    "a = A()\n",
    "test_eq(a.f(1), '11')\n",
    "test_eq(a.f(1.), 2.)\n",
    "test_is(a.f.inst, a)\n",
    "a.f(False)\n",
    "test_eq(a.foo, 'a')\n",
    "test_eq(a.f(()), ())"
   ]
  },
  {
   "cell_type": "code",
   "execution_count": null,
   "metadata": {},
   "outputs": [],
   "source": [
    "def m_tup(self, x:tuple): return x+(1,)\n",
    "t2 = TypeDispatch(m_tup, t)\n",
    "class A2: f = t2\n",
    "a2 = A2()\n",
    "test_eq(a2.f(1), '11')\n",
    "test_eq(a2.f(1.), 2.)\n",
    "test_is(a2.f.inst, a2)\n",
    "a2.f(False)\n",
    "test_eq(a2.foo, 'a')\n",
    "test_eq(a2.f(()), (1,))"
   ]
  },
  {
   "cell_type": "code",
   "execution_count": null,
   "metadata": {},
   "outputs": [
    {
     "data": {
      "text/plain": [
       "(int,float) -> f2\n",
       "(Integral,object) -> f1"
      ]
     },
     "execution_count": null,
     "metadata": {},
     "output_type": "execute_result"
    }
   ],
   "source": [
    "def f1(x:numbers.Integral, y): return x+1\n",
    "def f2(x:int, y:float): return x+y\n",
    "t = TypeDispatch([f1,f2])\n",
    "\n",
    "test_eq(t[int], f1)\n",
    "test_eq(t[int,int], f1)\n",
    "test_eq(t[int,float], f2)\n",
    "test_eq(t[float,float], None)\n",
    "test_eq(t[np.int32,float], f1)\n",
    "test_eq(t(3,2.0), 5)\n",
    "test_eq(t(3,2), 4)\n",
    "test_eq(t('a'), 'a')\n",
    "t"
   ]
  },
  {
   "cell_type": "markdown",
   "metadata": {},
   "source": [
    "## typedispatch Decorator"
   ]
  },
  {
   "cell_type": "code",
   "execution_count": null,
   "metadata": {},
   "outputs": [],
   "source": [
    "#export\n",
    "class DispatchReg:\n",
    "    \"A global registry for `TypeDispatch` objects keyed by function name\"\n",
    "    def __init__(self): self.d = defaultdict(TypeDispatch)\n",
    "    def __call__(self, f):\n",
    "        nm = f'{f.__qualname__}'\n",
    "        self.d[nm].add(f)\n",
    "        return self.d[nm]\n",
    "\n",
    "typedispatch = DispatchReg()"
   ]
  },
  {
   "cell_type": "code",
   "execution_count": null,
   "metadata": {},
   "outputs": [],
   "source": [
    "@typedispatch\n",
    "def f_td_test(x, y): return f'{x}{y}'\n",
    "@typedispatch\n",
    "def f_td_test(x:numbers.Integral, y): return x+1\n",
    "@typedispatch\n",
    "def f_td_test(x:int, y:float): return x+y\n",
    "@typedispatch\n",
    "def f_td_test(x:int, y:int): return x*y\n",
    "\n",
    "test_eq(f_td_test(3,2.0), 5)\n",
    "test_eq(f_td_test(3,2), 6)\n",
    "test_eq(f_td_test('a','b'), 'ab')"
   ]
  },
  {
   "cell_type": "code",
   "execution_count": null,
   "metadata": {},
   "outputs": [
    {
     "name": "stdout",
     "output_type": "stream",
     "text": [
      "<class 'UserWarning'>: Function f_td_test has defaults parameters. These will be ignored.\n"
     ]
    }
   ],
   "source": [
    "def outer():\n",
    "    @typedispatch\n",
    "    def f_td_test(x:int,y:int=10): return x*y\n",
    "test_warns(outer,True)"
   ]
  },
  {
   "cell_type": "markdown",
   "metadata": {},
   "source": [
    "## Casting"
   ]
  },
  {
   "cell_type": "markdown",
   "metadata": {},
   "source": [
    "Now that we can dispatch on types, let's make it easier to cast objects to a different type."
   ]
  },
  {
   "cell_type": "code",
   "execution_count": null,
   "metadata": {},
   "outputs": [],
   "source": [
    "#export\n",
    "_all_=['cast']"
   ]
  },
  {
   "cell_type": "code",
   "execution_count": null,
   "metadata": {},
   "outputs": [],
   "source": [
    "#export\n",
    "def retain_meta(x, res, copy_meta=False):\n",
    "    \"Call `res.set_meta(x)`, if it exists\"\n",
    "    if hasattr(res,'set_meta'): res.set_meta(x, copy_meta=copy_meta)\n",
    "    return res"
   ]
  },
  {
   "cell_type": "code",
   "execution_count": null,
   "metadata": {},
   "outputs": [],
   "source": [
    "#export\n",
    "def default_set_meta(self, x, copy_meta=False):\n",
    "    \"Copy over `_meta` from `x` to `res`, if it's missing\"\n",
    "    if hasattr(x, '_meta') and not hasattr(self, '_meta'):\n",
    "        meta = x._meta\n",
    "        if copy_meta: meta = copy(meta)\n",
    "        self._meta = meta\n",
    "    return self"
   ]
  },
  {
   "cell_type": "code",
   "execution_count": null,
   "metadata": {},
   "outputs": [],
   "source": [
    "#export\n",
    "@typedispatch\n",
    "def cast(x, typ):\n",
    "    \"cast `x` to type `typ` (may also change `x` inplace)\"\n",
    "    res = typ._before_cast(x) if hasattr(typ, '_before_cast') else x\n",
    "    if isinstance(res, ndarray): res = res.view(typ)\n",
    "    elif hasattr(res, 'as_subclass'): res = res.as_subclass(typ)\n",
    "    else:\n",
    "        try: res.__class__ = typ\n",
    "        except: res = typ(res)\n",
    "    return retain_meta(x, res)"
   ]
  },
  {
   "cell_type": "markdown",
   "metadata": {},
   "source": [
    "This works both for plain python classes:..."
   ]
  },
  {
   "cell_type": "code",
   "execution_count": null,
   "metadata": {},
   "outputs": [],
   "source": [
    "mk_class('_T1', 'a')\n",
    "class _T2(_T1): pass\n",
    "\n",
    "t = _T1(a=1)\n",
    "t2 = cast(t, _T2)\n",
    "test_eq_type(_T2(a=1), t2)"
   ]
  },
  {
   "cell_type": "markdown",
   "metadata": {},
   "source": [
    "...as well as for arrays and tensors."
   ]
  },
  {
   "cell_type": "code",
   "execution_count": null,
   "metadata": {},
   "outputs": [],
   "source": [
    "class _T1(ndarray): pass\n",
    "\n",
    "t = array([1])\n",
    "t2 = cast(t, _T1)\n",
    "test_eq(array([1]), t2)\n",
    "test_eq(_T1, type(t2))"
   ]
  },
  {
   "cell_type": "markdown",
   "metadata": {},
   "source": [
    "To customize casting for other types, define a separate `cast` function with `typedispatch` for your type."
   ]
  },
  {
   "cell_type": "code",
   "execution_count": null,
   "metadata": {},
   "outputs": [],
   "source": [
    "#export\n",
    "def retain_type(new, old=None, typ=None, copy_meta=False):\n",
    "    \"Cast `new` to type of `old` or `typ` if it's a superclass\"\n",
    "    # e.g. old is TensorImage, new is Tensor - if not subclass then do nothing\n",
    "    if new is None: return\n",
    "    assert old is not None or typ is not None\n",
    "    if typ is None:\n",
    "        if not isinstance(old, type(new)): return new\n",
    "        typ = old if isinstance(old,type) else type(old)\n",
    "    # Do nothing the new type is already an instance of requested type (i.e. same type)\n",
    "    if typ==NoneType or isinstance(new, typ): return new\n",
    "    return retain_meta(old, cast(new, typ), copy_meta=copy_meta)"
   ]
  },
  {
   "cell_type": "code",
   "execution_count": null,
   "metadata": {},
   "outputs": [],
   "source": [
    "class _T(tuple): pass\n",
    "a = _T((1,2))\n",
    "b = tuple((1,2))\n",
    "test_eq_type(retain_type(b, typ=_T), a)"
   ]
  },
  {
   "cell_type": "markdown",
   "metadata": {},
   "source": [
    "If `old` has a `_meta` attribute, its content is passed when casting `new` to the type of `old`."
   ]
  },
  {
   "cell_type": "code",
   "execution_count": null,
   "metadata": {},
   "outputs": [],
   "source": [
    "class _A():\n",
    "    set_meta = default_set_meta\n",
    "    def __init__(self, t): self.t=t\n",
    "\n",
    "class _B1(_A):\n",
    "    def __init__(self, t, a=1):\n",
    "        super().__init__(t)\n",
    "        self._meta = {'a':a}\n",
    "        \n",
    "x = _B1(1, a=2)\n",
    "b = _A(1)\n",
    "test_eq(retain_type(b, old=x)._meta, {'a': 2})"
   ]
  },
  {
   "cell_type": "code",
   "execution_count": null,
   "metadata": {},
   "outputs": [],
   "source": [
    "a = {L: [int, tuple]}\n",
    "first(a.keys())"
   ]
  },
  {
   "cell_type": "code",
   "execution_count": null,
   "metadata": {},
   "outputs": [],
   "source": [
    "#export\n",
    "def retain_types(new, old=None, typs=None):\n",
    "    \"Cast each item of `new` to type of matching item in `old` if it's a superclass\"\n",
    "    if not is_listy(new): return retain_type(new, old, typs)\n",
    "    if typs is not None:\n",
    "        if isinstance(typs, dict):\n",
    "            t = first(typs.keys())\n",
    "            typs = typs[t]\n",
    "        else: t,typs = typs,None\n",
    "    else: t = type(old) if old is not None and isinstance(old,type(new)) else type(new)\n",
    "    return t(L(new, old, typs).map_zip(retain_types, cycled=True))"
   ]
  },
  {
   "cell_type": "code",
   "execution_count": null,
   "metadata": {},
   "outputs": [],
   "source": [
    "class T(tuple): pass\n",
    "\n",
    "t1,t2 = retain_types((1,(1,(1,1))), (2,T((2,T((3,4))))))\n",
    "test_eq_type(t1, 1)\n",
    "test_eq_type(t2, T((1,T((1,1)))))\n",
    "\n",
    "t1,t2 = retain_types((1,(1,(1,1))), typs = {tuple: [int, {T: [int, {T: [int,int]}]}]})\n",
    "test_eq_type(t1, 1)\n",
    "test_eq_type(t2, T((1,T((1,1)))))"
   ]
  },
  {
   "cell_type": "code",
   "execution_count": null,
   "metadata": {},
   "outputs": [],
   "source": [
    "#export\n",
    "def explode_types(o):\n",
    "    \"Return the type of `o`, potentially in nested dictionaries for thing that are listy\"\n",
    "    if not is_listy(o): return type(o)\n",
    "    return {type(o): [explode_types(o_) for o_ in o]}"
   ]
  },
  {
   "cell_type": "code",
   "execution_count": null,
   "metadata": {},
   "outputs": [],
   "source": [
    "test_eq(explode_types((2,T((2,T((3,4)))))), {tuple: [int, {T: [int, {T: [int,int]}]}]})"
   ]
  },
  {
   "cell_type": "markdown",
   "metadata": {},
   "source": [
    "## Export -"
   ]
  },
  {
   "cell_type": "code",
   "execution_count": null,
   "metadata": {},
   "outputs": [],
   "source": [
    "#hide\n",
    "from nbdev.export import notebook2script\n",
    "notebook2script()"
   ]
  },
  {
   "cell_type": "code",
   "execution_count": null,
   "metadata": {},
   "outputs": [],
   "source": []
  }
 ],
 "metadata": {
  "jupytext": {
   "split_at_heading": true
  },
  "kernelspec": {
   "display_name": "Python 3",
   "language": "python",
   "name": "python3"
  }
 },
 "nbformat": 4,
 "nbformat_minor": 2
}
