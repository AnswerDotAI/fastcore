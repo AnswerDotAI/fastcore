{
 "cells": [
  {
   "cell_type": "code",
   "execution_count": null,
   "id": "d0c84aa5",
   "metadata": {},
   "outputs": [],
   "source": [
    "#| default_exp xml"
   ]
  },
  {
   "cell_type": "markdown",
   "id": "61bf8203",
   "metadata": {},
   "source": [
    "# XML\n",
    "\n",
    "> Concise generation of XML."
   ]
  },
  {
   "cell_type": "code",
   "execution_count": null,
   "id": "55944805",
   "metadata": {},
   "outputs": [],
   "source": [
    "#| export\n",
    "from fastcore.utils import *\n",
    "\n",
    "import types,json\n",
    "\n",
    "from dataclasses import dataclass, asdict\n",
    "from typing import Mapping\n",
    "from functools import partial\n",
    "from html import escape"
   ]
  },
  {
   "cell_type": "code",
   "execution_count": null,
   "id": "42d18e5c",
   "metadata": {},
   "outputs": [],
   "source": [
    "from IPython.display import Markdown\n",
    "from pprint import pprint"
   ]
  },
  {
   "cell_type": "code",
   "execution_count": null,
   "id": "b06c10f6",
   "metadata": {},
   "outputs": [],
   "source": [
    "#|export\n",
    "class FT(list):\n",
    "    \"A 'Fast Tag' structure, which is a `list` of `[tag,children,attrs]`\"\n",
    "    def __init__(self, tag, cs, attrs=None, void_=False, **kwargs):\n",
    "        assert isinstance(cs, tuple)\n",
    "        super().__init__([tag, cs, {**(attrs or {}), **kwargs}])\n",
    "        self.void_ = void_\n",
    "\n",
    "    @property\n",
    "    def tag(self): return self[0]\n",
    "    @property\n",
    "    def children(self): return self[1]\n",
    "    @property\n",
    "    def attrs(self): return self[2]\n",
    "\n",
    "    def __setattr__(self, k, v):\n",
    "        if k.startswith('__') or k in ('tag','cs','attrs','void_'): return super().__setattr__(k,v)\n",
    "        self.attrs[k.lstrip('_').replace('_', '-')] = v\n",
    "\n",
    "    def __getattr__(self, k):\n",
    "        if k.startswith('__') or k not in self.attrs: raise AttributeError(k)\n",
    "        return self.get(k)\n",
    "\n",
    "    def get(self, k, default=None): return self[2].get(k.lstrip('_').replace('_', '-'), default)"
   ]
  },
  {
   "cell_type": "code",
   "execution_count": null,
   "id": "d6069e01",
   "metadata": {},
   "outputs": [],
   "source": [
    "#| export\n",
    "def attrmap(o):\n",
    "    if o=='_': return o\n",
    "    o = dict(htmlClass='class', cls='class', _class='class', klass='class',\n",
    "             _for='for', fr='for', htmlFor='for').get(o, o)\n",
    "    return o.lstrip('_').replace('_', '-')"
   ]
  },
  {
   "cell_type": "code",
   "execution_count": null,
   "id": "9b2adafa",
   "metadata": {},
   "outputs": [],
   "source": [
    "#| export\n",
    "def valmap(o):\n",
    "    if is_listy(o): return ' '.join(o)\n",
    "    if isinstance(o, dict): return '; '.join(f\"{k}:{v}\" for k,v in o.items())\n",
    "    return o"
   ]
  },
  {
   "cell_type": "code",
   "execution_count": null,
   "id": "149067dd",
   "metadata": {},
   "outputs": [],
   "source": [
    "#|export\n",
    "def _preproc(c, kw, attrmap=attrmap, valmap=valmap):\n",
    "    if len(c)==1 and isinstance(c[0], (types.GeneratorType, map, filter)): c = tuple(c[0])\n",
    "    return c,{attrmap(k.lower()):valmap(v) for k,v in kw.items() if v is not None}"
   ]
  },
  {
   "cell_type": "code",
   "execution_count": null,
   "id": "06718948",
   "metadata": {},
   "outputs": [],
   "source": [
    "#| export\n",
    "def ft(tag:str, *c, void_=False, attrmap=attrmap, valmap=valmap, **kw):\n",
    "    \"Create an `FT` structure for `to_xml()`\"\n",
    "    return FT(tag.lower(),*_preproc(c,kw,attrmap=attrmap, valmap=valmap), void_=void_)"
   ]
  },
  {
   "cell_type": "code",
   "execution_count": null,
   "id": "45489975",
   "metadata": {},
   "outputs": [],
   "source": [
    "#| export\n",
    "voids = set('area base br col command embed hr img input keygen link meta param source track wbr !doctype'.split())\n",
    "_g = globals()\n",
    "_all_ = ['Head', 'Title', 'Meta', 'Link', 'Style', 'Body', 'Pre', 'Code',\n",
    "    'Div', 'Span', 'P', 'H1', 'H2', 'H3', 'H4', 'H5', 'H6', 'Strong', 'Em', 'B',\n",
    "    'I', 'U', 'S', 'Strike', 'Sub', 'Sup', 'Hr', 'Br', 'Img', 'A', 'Link', 'Nav',\n",
    "    'Ul', 'Ol', 'Li', 'Dl', 'Dt', 'Dd', 'Table', 'Thead', 'Tbody', 'Tfoot', 'Tr',\n",
    "    'Th', 'Td', 'Caption', 'Col', 'Colgroup', 'Form', 'Input', 'Textarea',\n",
    "    'Button', 'Select', 'Option', 'Label', 'Fieldset', 'Legend', 'Details',\n",
    "    'Summary', 'Main', 'Header', 'Footer', 'Section', 'Article', 'Aside', 'Figure',\n",
    "    'Figcaption', 'Mark', 'Small', 'Iframe', 'Object', 'Embed', 'Param', 'Video',\n",
    "    'Audio', 'Source', 'Canvas', 'Svg', 'Math', 'Script', 'Noscript', 'Template', 'Slot']\n",
    "\n",
    "for o in _all_: _g[o] = partial(ft, o.lower(), void_=o.lower() in voids)"
   ]
  },
  {
   "cell_type": "markdown",
   "id": "732e44ab",
   "metadata": {},
   "source": [
    "The main HTML tags are exported as `ft` partials.\n",
    "\n",
    "Attributes are passed as keywords. Use 'klass' and 'fr' instead of 'class' and 'for', to avoid Python reserved word clashes."
   ]
  },
  {
   "cell_type": "code",
   "execution_count": null,
   "id": "39834fcb",
   "metadata": {},
   "outputs": [],
   "source": [
    "#| export\n",
    "def Html(*c, doctype=True, **kwargs)->FT:\n",
    "    \"An HTML tag, optionally preceeded by `!DOCTYPE HTML`\"\n",
    "    res = ft('html', *c, **kwargs)\n",
    "    if not doctype: return res\n",
    "    return (ft('!DOCTYPE', html=True, void_=True), res)"
   ]
  },
  {
   "cell_type": "code",
   "execution_count": null,
   "id": "9a8b4ddb",
   "metadata": {},
   "outputs": [
    {
     "name": "stdout",
     "output_type": "stream",
     "text": [
      "(['!doctype', (), {'html': True}],\n",
      " ['html',\n",
      "  (['head', (['title', ('Some page',), {}],), {}],\n",
      "   ['body',\n",
      "    (['div',\n",
      "      ('Some text\\nanother line',\n",
      "       ['input', (), {'name': 'me'}],\n",
      "       ['img', (), {'data': 1, 'src': 'filename'}]),\n",
      "      {'class': 'myclass another', 'style': 'padding:1; margin:2'}],),\n",
      "    {}]),\n",
      "  {}])\n"
     ]
    }
   ],
   "source": [
    "samp = Html(\n",
    "    Head(Title('Some page')),\n",
    "    Body(Div('Some text\\nanother line', Input(name='me'), Img(src=\"filename\", data=1),\n",
    "             cls=['myclass', 'another'],\n",
    "             style={'padding':1, 'margin':2}))\n",
    ")\n",
    "pprint(samp)"
   ]
  },
  {
   "cell_type": "markdown",
   "id": "314eb4bc",
   "metadata": {},
   "source": [
    "The three elements of the list can also be accessed with property names, so you don't have to remember their order."
   ]
  },
  {
   "cell_type": "code",
   "execution_count": null,
   "id": "5c6c57e9",
   "metadata": {},
   "outputs": [
    {
     "name": "stdout",
     "output_type": "stream",
     "text": [
      "p\n",
      "('Some text',)\n",
      "{'id': 'myid'}\n"
     ]
    }
   ],
   "source": [
    "elem = P('Some text', id=\"myid\")\n",
    "print(elem.tag)\n",
    "print(elem.children)\n",
    "print(elem.attrs)"
   ]
  },
  {
   "cell_type": "markdown",
   "id": "bb61f88e",
   "metadata": {},
   "source": [
    "You can also get and set attrs directly:"
   ]
  },
  {
   "cell_type": "code",
   "execution_count": null,
   "id": "5c7f175d",
   "metadata": {},
   "outputs": [
    {
     "name": "stdout",
     "output_type": "stream",
     "text": [
      "newid newid missing\n"
     ]
    },
    {
     "data": {
      "text/plain": [
       "['p', ('Some text',), {'id': 'newid'}]"
      ]
     },
     "execution_count": null,
     "metadata": {},
     "output_type": "execute_result"
    }
   ],
   "source": [
    "elem.id = 'newid'\n",
    "print(elem.id, elem.get('id'), elem.get('foo', 'missing'))\n",
    "elem"
   ]
  },
  {
   "cell_type": "code",
   "execution_count": null,
   "id": "116c886e",
   "metadata": {},
   "outputs": [],
   "source": [
    "#| export\n",
    "class Safe(str):\n",
    "    def __html__(self): return self"
   ]
  },
  {
   "cell_type": "code",
   "execution_count": null,
   "id": "254c8ff3",
   "metadata": {},
   "outputs": [],
   "source": [
    "#| export\n",
    "def _escape(s): return '' if s is None else s.__html__() if hasattr(s, '__html__') else escape(s) if isinstance(s, str) else s"
   ]
  },
  {
   "cell_type": "code",
   "execution_count": null,
   "id": "0255b96f",
   "metadata": {},
   "outputs": [],
   "source": [
    "#| export\n",
    "def _to_attr(k,v):\n",
    "    if isinstance(v,bool):\n",
    "        if v==True : return str(k)\n",
    "        if v==False: return ''\n",
    "    if isinstance(v,str): v = escape(v, quote=True)\n",
    "    elif isinstance(v, Mapping): v = json.dumps(v)\n",
    "    else: v = str(v)\n",
    "    qt = '\"'\n",
    "    if qt in v: qt = \"'\"\n",
    "    return f'{k}={qt}{v}{qt}'"
   ]
  },
  {
   "cell_type": "code",
   "execution_count": null,
   "id": "b89d088a",
   "metadata": {},
   "outputs": [],
   "source": [
    "#| export\n",
    "def _to_xml(elm, lvl, indent:bool):\n",
    "    nl = '\\n'\n",
    "    if not indent: lvl,nl = 0,''\n",
    "    if elm is None: return ''\n",
    "    if isinstance(elm, tuple): return f'{nl}'.join(to_xml(o, indent=indent) for o in elm)\n",
    "    if hasattr(elm, '__ft__'): elm = elm.__ft__()\n",
    "    sp = ' ' * lvl\n",
    "    if not isinstance(elm, list): return f'{_escape(elm)}{nl}'\n",
    "\n",
    "    tag,cs,attrs = elm\n",
    "    stag = tag\n",
    "    if attrs:\n",
    "        sattrs = (_to_attr(k,v) for k,v in attrs.items())\n",
    "        stag += ' ' + ' '.join(sattrs)\n",
    "\n",
    "    isvoid = getattr(elm, 'void_', False)\n",
    "    cltag = '' if isvoid else f'</{tag}>'\n",
    "    if not cs: return f'{sp}<{stag}>{cltag}{nl}'\n",
    "    if len(cs)==1 and not isinstance(cs[0],(list,tuple)) and not hasattr(cs[0],'__ft__'):\n",
    "        return f'{sp}<{stag}>{_escape(cs[0])}{cltag}{nl}'\n",
    "    res = f'{sp}<{stag}>{nl}'\n",
    "    res += ''.join(to_xml(c, lvl=lvl+2, indent=indent) for c in cs)\n",
    "    if not isvoid: res += f'{sp}{cltag}{nl}'\n",
    "    return Safe(res)\n",
    "\n",
    "def to_xml(elm, lvl=0, indent:bool=True):\n",
    "    \"Convert `ft` element tree into an XML string\"\n",
    "    return Safe(_to_xml(elm, lvl, indent))\n",
    "\n",
    "FT.__html__ = to_xml"
   ]
  },
  {
   "cell_type": "code",
   "execution_count": null,
   "id": "d3d23c48",
   "metadata": {},
   "outputs": [
    {
     "name": "stdout",
     "output_type": "stream",
     "text": [
      "<!doctype html>\n",
      "\n",
      "<html>\n",
      "  <head>\n",
      "    <title>Some page</title>\n",
      "  </head>\n",
      "  <body>\n",
      "    <div class=\"myclass another\" style=\"padding:1; margin:2\">\n",
      "Some text\n",
      "another line\n",
      "      <input name=\"me\">\n",
      "      <img src=\"filename\" data=\"1\">\n",
      "    </div>\n",
      "  </body>\n",
      "</html>\n",
      "\n"
     ]
    }
   ],
   "source": [
    "h = to_xml(samp)\n",
    "print(h)"
   ]
  },
  {
   "cell_type": "code",
   "execution_count": null,
   "id": "51e58821",
   "metadata": {},
   "outputs": [
    {
     "name": "stdout",
     "output_type": "stream",
     "text": [
      "<!doctype html><html><head><title>Some page</title></head><body><div class=\"myclass another\" style=\"padding:1; margin:2\">Some text\n",
      "another line<input name=\"me\"><img src=\"filename\" data=\"1\"></div></body></html>\n"
     ]
    }
   ],
   "source": [
    "h = to_xml(samp, indent=False)\n",
    "print(h)"
   ]
  },
  {
   "cell_type": "markdown",
   "id": "4713bd8d",
   "metadata": {},
   "source": [
    "Interoperability both directions with Django and Jinja using the [__html__() protocol](https://jinja.palletsprojects.com/en/3.1.x/templates/#jinja-filters.escape):"
   ]
  },
  {
   "cell_type": "code",
   "execution_count": null,
   "id": "798ae1d2",
   "metadata": {},
   "outputs": [
    {
     "name": "stdout",
     "output_type": "stream",
     "text": [
      "<div><b>Hello from Django</b></div>\n",
      "\n",
      "<div>\n",
      "  <p>Hello from fastcore &lt;3</p>\n",
      "</div>\n",
      "\n"
     ]
    }
   ],
   "source": [
    "def _esc(s): return s.__html__() if hasattr(s, '__html__') else Safe(escape(s))\n",
    "\n",
    "r = Safe('<b>Hello from Django</b>')\n",
    "print(to_xml(Div(r)))\n",
    "print(_esc(Div(P('Hello from fastcore <3'))))"
   ]
  },
  {
   "cell_type": "code",
   "execution_count": null,
   "id": "5f0e91e0",
   "metadata": {},
   "outputs": [],
   "source": [
    "#| export\n",
    "def highlight(s, lang='html'):\n",
    "    \"Markdown to syntax-highlight `s` in language `lang`\"\n",
    "    return f'```{lang}\\n{to_xml(s)}\\n```'"
   ]
  },
  {
   "cell_type": "code",
   "execution_count": null,
   "id": "39fab735",
   "metadata": {},
   "outputs": [],
   "source": [
    "#| export\n",
    "def showtags(s):\n",
    "    return f\"\"\"<code><pre>\n",
    "{escape(to_xml(s))}\n",
    "</code></pre>\"\"\"\n",
    "\n",
    "FT._repr_markdown_ = highlight"
   ]
  },
  {
   "cell_type": "code",
   "execution_count": null,
   "id": "530666f8",
   "metadata": {},
   "outputs": [],
   "source": [
    "#| export\n",
    "def __getattr__(tag):\n",
    "    if tag.startswith('_') or tag[0].islower(): raise AttributeError\n",
    "    def _f(*c, target_id=None, **kwargs): return ft(tag, *c, target_id=target_id, **kwargs)\n",
    "    return _f"
   ]
  },
  {
   "cell_type": "code",
   "execution_count": null,
   "id": "204c3900",
   "metadata": {},
   "outputs": [],
   "source": [
    "#|export\n",
    "@patch\n",
    "def __call__(self:FT, *c, **kw):\n",
    "    c,kw = _preproc(c,kw)\n",
    "    if c: self[1] = self[1]+c\n",
    "    if kw: self[2] = {**self[2], **kw}\n",
    "    return self"
   ]
  },
  {
   "cell_type": "markdown",
   "id": "32b75e87",
   "metadata": {},
   "source": [
    "You can also reorder the children to come *after* the attrs, if you use this alternative syntax for `FT` where the children are in a second pair of `()` (behind the scenes this is because `FT` implements `__call__` to add children)."
   ]
  },
  {
   "cell_type": "code",
   "execution_count": null,
   "id": "efd647f8",
   "metadata": {},
   "outputs": [
    {
     "data": {
      "text/markdown": [
       "```html\n",
       "<body class=\"myclass\">\n",
       "  <div style=\"padding:3px\">\n",
       "Some text \n",
       "    <i spurious>in italics</i>\n",
       "    <input name=\"me\">\n",
       "    <img src=\"filename\" data=\"1\">\n",
       "  </div>\n",
       "</body>\n",
       "\n",
       "```"
      ],
      "text/plain": [
       "['body',\n",
       " (['div',\n",
       "   ('Some text ',\n",
       "    ['i', ('in italics',), {'spurious': True}],\n",
       "    ['input', (), {'name': 'me'}],\n",
       "    ['img', (), {'src': 'filename', 'data': 1}]),\n",
       "   {'style': 'padding:3px'}],),\n",
       " {'class': 'myclass'}]"
      ]
     },
     "execution_count": null,
     "metadata": {},
     "output_type": "execute_result"
    }
   ],
   "source": [
    "Body(klass='myclass')(\n",
    "    Div(style='padding:3px')(\n",
    "        'Some text ',\n",
    "        I(spurious=True)('in italics'),\n",
    "        Input(name='me'),\n",
    "        Img(src=\"filename\", data=1)\n",
    "    )\n",
    ")"
   ]
  },
  {
   "cell_type": "markdown",
   "id": "df973d4e",
   "metadata": {},
   "source": [
    "# Export -"
   ]
  },
  {
   "cell_type": "code",
   "execution_count": null,
   "id": "ad32b076",
   "metadata": {},
   "outputs": [],
   "source": [
    "#|hide\n",
    "import nbdev; nbdev.nbdev_export()"
   ]
  },
  {
   "cell_type": "code",
   "execution_count": null,
   "id": "84fe290c",
   "metadata": {},
   "outputs": [],
   "source": []
  }
 ],
 "metadata": {
  "kernelspec": {
   "display_name": "python3",
   "language": "python",
   "name": "python3"
  }
 },
 "nbformat": 4,
 "nbformat_minor": 5
}
