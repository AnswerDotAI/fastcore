{
 "cells": [
  {
   "cell_type": "code",
   "execution_count": null,
   "id": "d0c84aa5",
   "metadata": {},
   "outputs": [],
   "source": [
    "#| default_exp xml"
   ]
  },
  {
   "cell_type": "markdown",
   "id": "61bf8203",
   "metadata": {},
   "source": [
    "# XML\n",
    "\n",
    "> Concise generation of XML."
   ]
  },
  {
   "cell_type": "code",
   "execution_count": null,
   "id": "55944805",
   "metadata": {},
   "outputs": [],
   "source": [
    "#| export\n",
    "from fastcore.utils import *\n",
    "\n",
    "import types\n",
    "from dataclasses import dataclass\n",
    "from functools import partial\n",
    "from html import escape"
   ]
  },
  {
   "cell_type": "code",
   "execution_count": null,
   "id": "42d18e5c",
   "metadata": {},
   "outputs": [],
   "source": [
    "from IPython.display import Markdown"
   ]
  },
  {
   "cell_type": "code",
   "execution_count": null,
   "id": "4dbb9a59",
   "metadata": {},
   "outputs": [],
   "source": [
    "#| export\n",
    "def _attrmap(o):\n",
    "    return dict(cls='class', klass='class', fr='for').get(o, o)"
   ]
  },
  {
   "cell_type": "code",
   "execution_count": null,
   "id": "06718948",
   "metadata": {},
   "outputs": [],
   "source": [
    "#| export\n",
    "def xt(tag:str, *c, **kw):\n",
    "    \"Create an XML tag structure `[tag,children,attrs]` for `toxml()`\"\n",
    "    if len(c)==1 and isinstance(c[0], types.GeneratorType): c = tuple(c[0])\n",
    "    kw = {_attrmap(k.lstrip('_')):str(v) for k,v in kw.items()}\n",
    "    return [tag.lower(),c,kw]"
   ]
  },
  {
   "cell_type": "code",
   "execution_count": null,
   "id": "45489975",
   "metadata": {},
   "outputs": [],
   "source": [
    "#| export\n",
    "_g = globals()\n",
    "_all_ = ['Html', 'Head', 'Title', 'Meta', 'Link', 'Style', 'Body', 'Pre', 'Code',\n",
    "'Div', 'Span', 'P', 'H1', 'H2', 'H3', 'H4', 'H5', 'H6', 'Strong', 'Em', 'B',\n",
    "'I', 'U', 'S', 'Strike', 'Sub', 'Sup', 'Hr', 'Br', 'Img', 'A', 'Link', 'Nav',\n",
    "'Ul', 'Ol', 'Li', 'Dl', 'Dt', 'Dd', 'Table', 'Thead', 'Tbody', 'Tfoot', 'Tr',\n",
    "'Th', 'Td', 'Caption', 'Col', 'Colgroup', 'Form', 'Input', 'Textarea',\n",
    "'Button', 'Select', 'Option', 'Label', 'Fieldset', 'Legend', 'Details',\n",
    "'Summary', 'Main', 'Header', 'Footer', 'Section', 'Article', 'Aside', 'Figure',\n",
    "'Figcaption', 'Mark', 'Small', 'Iframe', 'Object', 'Embed', 'Param', 'Video',\n",
    "'Audio', 'Source', 'Canvas', 'Svg', 'Math', 'Script', 'Noscript', 'Template', 'Slot']\n",
    "\n",
    "for o in _all_: _g[o] = partial(xt, o.lower())"
   ]
  },
  {
   "cell_type": "markdown",
   "id": "732e44ab",
   "metadata": {},
   "source": [
    "The main HTML tags are exported as `xt` partials.\n",
    "\n",
    "Attributes are passed as keywords. Use 'klass' and 'fr' instead of 'class' and 'for', to avoid Python reserved word clashes."
   ]
  },
  {
   "cell_type": "code",
   "execution_count": null,
   "id": "9a8b4ddb",
   "metadata": {},
   "outputs": [
    {
     "data": {
      "text/plain": [
       "['html',\n",
       " (['head', (['title', ('Some page',), {}],), {}],\n",
       "  ['body',\n",
       "   (['div',\n",
       "     (['p', ('Some text',), {}], ['img', (), {'src': 'filename'}]),\n",
       "     {'class': 'myclass'}],),\n",
       "   {}]),\n",
       " {}]"
      ]
     },
     "execution_count": null,
     "metadata": {},
     "output_type": "execute_result"
    }
   ],
   "source": [
    "samp = Html(\n",
    "    Head(Title('Some page')),\n",
    "    Body(Div(P('Some text'), Img(src=\"filename\"), klass='myclass'))\n",
    ")\n",
    "samp"
   ]
  },
  {
   "cell_type": "code",
   "execution_count": null,
   "id": "b89d088a",
   "metadata": {},
   "outputs": [],
   "source": [
    "#| export\n",
    "def to_xml(elm, lvl=0):\n",
    "    \"Convert `xt` element tree into an XML string\"\n",
    "    if hasattr(elm, '__xt__'): elm = elm.__xt__()\n",
    "    sp = ' ' * lvl\n",
    "    if not isinstance(elm, list):\n",
    "        if isinstance(elm, str): elm = escape(elm)\n",
    "        return f'{elm}\\n'\n",
    "\n",
    "    tag,cs,attrs = elm\n",
    "    stag = tag\n",
    "    if attrs:\n",
    "        sattrs = (f'{k}=\"{escape(str(v))}\"' for k,v in attrs.items())\n",
    "        stag += ' ' + ' '.join(sattrs)\n",
    "    \n",
    "    if not cs: return f'{sp}<{stag}></{tag}>\\n'\n",
    "    res = f'{sp}<{stag}>\\n'\n",
    "    res += ''.join(to_xml(c, lvl+2) for c in cs)\n",
    "    res += f'{sp}</{tag}>\\n'\n",
    "    return res"
   ]
  },
  {
   "cell_type": "code",
   "execution_count": null,
   "id": "d3d23c48",
   "metadata": {},
   "outputs": [
    {
     "data": {
      "text/markdown": [
       "```html\n",
       "<html>\n",
       "  <head>\n",
       "    <title>\n",
       "Some page\n",
       "    </title>\n",
       "  </head>\n",
       "  <body>\n",
       "    <div class=\"myclass\">\n",
       "      <p>\n",
       "Some text\n",
       "      </p>\n",
       "      <img src=\"filename\"></img>\n",
       "    </div>\n",
       "  </body>\n",
       "</html>\n",
       "\n",
       "```"
      ],
      "text/plain": [
       "<IPython.core.display.Markdown object>"
      ]
     },
     "execution_count": null,
     "metadata": {},
     "output_type": "execute_result"
    }
   ],
   "source": [
    "Markdown(f'''```html\n",
    "{to_xml(samp)}\n",
    "```''')"
   ]
  },
  {
   "cell_type": "markdown",
   "id": "df973d4e",
   "metadata": {},
   "source": [
    "# Export -"
   ]
  },
  {
   "cell_type": "code",
   "execution_count": null,
   "id": "ad32b076",
   "metadata": {},
   "outputs": [],
   "source": [
    "#|hide\n",
    "import nbdev; nbdev.nbdev_export()"
   ]
  },
  {
   "cell_type": "code",
   "execution_count": null,
   "id": "84fe290c",
   "metadata": {},
   "outputs": [],
   "source": []
  }
 ],
 "metadata": {
  "kernelspec": {
   "display_name": "python3",
   "language": "python",
   "name": "python3"
  }
 },
 "nbformat": 4,
 "nbformat_minor": 5
}
