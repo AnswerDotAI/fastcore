{
 "cells": [
  {
   "cell_type": "code",
   "execution_count": null,
   "metadata": {},
   "outputs": [],
   "source": [
    "#|default_exp docments"
   ]
  },
  {
   "cell_type": "markdown",
   "metadata": {},
   "source": [
    "# Docments\n",
    "\n",
    "> Document parameters using comments."
   ]
  },
  {
   "cell_type": "code",
   "execution_count": null,
   "metadata": {},
   "outputs": [],
   "source": [
    "#|export\n",
    "from __future__ import annotations\n",
    "\n",
    "import re,ast,inspect\n",
    "from tokenize import tokenize,COMMENT\n",
    "from ast import parse,FunctionDef,AsyncFunctionDef,AnnAssign\n",
    "from io import BytesIO\n",
    "from textwrap import dedent\n",
    "from types import SimpleNamespace\n",
    "from inspect import getsource,isfunction,ismethod,isclass,signature,Parameter\n",
    "from dataclasses import dataclass, is_dataclass\n",
    "from fastcore.utils import *\n",
    "from fastcore.meta import delegates\n",
    "from fastcore import docscrape\n",
    "from textwrap import fill\n",
    "from inspect import isclass,getdoc"
   ]
  },
  {
   "cell_type": "code",
   "execution_count": null,
   "metadata": {},
   "outputs": [],
   "source": [
    "#|hide\n",
    "from nbdev.showdoc import *\n",
    "from fastcore.test import *"
   ]
  },
  {
   "cell_type": "markdown",
   "metadata": {},
   "source": [
    "`docments` provides programmatic access to comments in function parameters and return types. It can be used to create more developer-friendly documentation, CLI, etc tools."
   ]
  },
  {
   "cell_type": "markdown",
   "metadata": {},
   "source": [
    "## Why?"
   ]
  },
  {
   "cell_type": "markdown",
   "metadata": {},
   "source": [
    "Without docments, if you want to document your parameters, you have to repeat param names in docstrings, since they're already in the function signature. The parameters have to be kept synchronized in the two places as you change your code. Readers of your code have to look back and forth between two places to understand what's happening. So it's more work for you, and for your users.\n",
    "\n",
    "Furthermore, to have parameter documentation formatted nicely without docments, you have to use special magic docstring formatting, often with [odd quirks](https://stackoverflow.com/questions/62167540/why-do-definitions-have-a-space-before-the-colon-in-numpy-docstring-sections), which is a pain to create and maintain, and awkward to read in code. For instance, using [numpy-style documentation](https://numpydoc.readthedocs.io/en/latest/format.html):"
   ]
  },
  {
   "cell_type": "code",
   "execution_count": null,
   "metadata": {},
   "outputs": [],
   "source": [
    "def add_np(a:int, b:int=0)->int:\n",
    "    \"\"\"The sum of two numbers.\n",
    "    \n",
    "    Used to demonstrate numpy-style docstrings.\n",
    "\n",
    "Parameters\n",
    "----------\n",
    "a : int\n",
    "    the 1st number to add\n",
    "b : int\n",
    "    the 2nd number to add (default: 0)\n",
    "\n",
    "Returns\n",
    "-------\n",
    "int\n",
    "    the result of adding `a` to `b`\"\"\"\n",
    "    return a+b"
   ]
  },
  {
   "cell_type": "markdown",
   "metadata": {},
   "source": [
    "By comparison, here's the same thing using docments:"
   ]
  },
  {
   "cell_type": "code",
   "execution_count": null,
   "metadata": {},
   "outputs": [],
   "source": [
    "def add(\n",
    "    a:int, # the 1st number to add\n",
    "    b=0,   # the 2nd number to add\n",
    ")->int:    # the result of adding `a` to `b`\n",
    "    \"The sum of two numbers.\"\n",
    "    return a+b"
   ]
  },
  {
   "cell_type": "markdown",
   "metadata": {},
   "source": [
    "## Numpy docstring helper functions"
   ]
  },
  {
   "cell_type": "markdown",
   "metadata": {},
   "source": [
    "`docments` also supports numpy-style docstrings, or a mix or numpy-style and docments parameter documentation. The functions in this section help get and parse this information."
   ]
  },
  {
   "cell_type": "code",
   "execution_count": null,
   "metadata": {},
   "outputs": [],
   "source": [
    "#|export\n",
    "def docstring(sym):\n",
    "    \"Get docstring for `sym` for functions ad classes\"\n",
    "    if isinstance(sym, str): return sym\n",
    "    res = getdoc(sym)\n",
    "    if not res and isclass(sym): res = getdoc(sym.__init__)\n",
    "    return res or \"\""
   ]
  },
  {
   "cell_type": "code",
   "execution_count": null,
   "metadata": {},
   "outputs": [],
   "source": [
    "test_eq(docstring(add), \"The sum of two numbers.\")"
   ]
  },
  {
   "cell_type": "code",
   "execution_count": null,
   "metadata": {},
   "outputs": [],
   "source": [
    "#|export\n",
    "def parse_docstring(sym):\n",
    "    \"Parse a numpy-style docstring in `sym`\"\n",
    "    return AttrDict(**docscrape.NumpyDocString(docstring(sym)))"
   ]
  },
  {
   "cell_type": "code",
   "execution_count": null,
   "metadata": {},
   "outputs": [],
   "source": [
    "# parse_docstring(add_np)"
   ]
  },
  {
   "cell_type": "code",
   "execution_count": null,
   "metadata": {},
   "outputs": [],
   "source": [
    "#|export\n",
    "def isdataclass(s):\n",
    "    \"Check if `s` is a dataclass but not a dataclass' instance\"\n",
    "    return is_dataclass(s) and isclass(s)"
   ]
  },
  {
   "cell_type": "code",
   "execution_count": null,
   "metadata": {},
   "outputs": [],
   "source": [
    "#|export\n",
    "def get_dataclass_source(s):\n",
    "    \"Get source code for dataclass `s`\"\n",
    "    return getsource(s) if not getattr(s, \"__module__\") == '__main__' else \"\""
   ]
  },
  {
   "cell_type": "code",
   "execution_count": null,
   "metadata": {},
   "outputs": [],
   "source": [
    "#|export\n",
    "def get_source(s):\n",
    "    \"Get source code for string, function object or dataclass `s`\"\n",
    "    if isinstance(s,str): return s\n",
    "    return getsource(s) if isfunction(s) or ismethod(s) else get_dataclass_source(s) if isdataclass(s) else None"
   ]
  },
  {
   "cell_type": "code",
   "execution_count": null,
   "metadata": {},
   "outputs": [],
   "source": [
    "#|export\n",
    "def _parses(s):\n",
    "    \"Parse Python code in string, function object or dataclass `s`\"\n",
    "    return parse(dedent(get_source(s) or ''))\n",
    "\n",
    "def _tokens(s):\n",
    "    \"Tokenize Python code in string or function object `s`\"\n",
    "    s = get_source(s)\n",
    "    if not s: return []\n",
    "    return tokenize(BytesIO(s.encode('utf-8')).readline)\n",
    "\n",
    "_clean_re = re.compile(r'^\\s*#(.*)\\s*$')\n",
    "def _clean_comment(s):\n",
    "    res = _clean_re.findall(s)\n",
    "    return res[0] if res else None\n",
    "\n",
    "def _param_locs(s, returns=True, args_kwargs=False):\n",
    "    \"`dict` of parameter line numbers to names\"\n",
    "    body = _parses(s).body\n",
    "    if len(body)==1:\n",
    "        defn = body[0]\n",
    "        if isinstance(defn, (FunctionDef, AsyncFunctionDef)):\n",
    "            res = {arg.lineno:arg.arg for arg in defn.args.args}\n",
    "            # Add *args if present\n",
    "            if defn.args.vararg: res[defn.args.vararg.lineno] = defn.args.vararg.arg\n",
    "            # Add keyword-only args\n",
    "            res.update({arg.lineno:arg.arg for arg in defn.args.kwonlyargs})\n",
    "            # Add **kwargs if present\n",
    "            if defn.args.kwarg and args_kwargs: res[defn.args.kwarg.lineno] = defn.args.kwarg.arg\n",
    "            if returns and defn.returns: res[defn.returns.lineno] = 'return'\n",
    "            return res\n",
    "        elif isdataclass(s):\n",
    "            res = {arg.lineno:arg.target.id for arg in defn.body if isinstance(arg, AnnAssign)}\n",
    "            return res\n",
    "    return None"
   ]
  },
  {
   "cell_type": "code",
   "execution_count": null,
   "metadata": {},
   "outputs": [
    {
     "data": {
      "text/plain": [
       "{2: 'a', 3: 'b', 4: 'return'}"
      ]
     },
     "execution_count": null,
     "metadata": {},
     "output_type": "execute_result"
    }
   ],
   "source": [
    "parms = _param_locs(add)\n",
    "parms"
   ]
  },
  {
   "cell_type": "code",
   "execution_count": null,
   "metadata": {},
   "outputs": [],
   "source": [
    "#|export\n",
    "empty = Parameter.empty"
   ]
  },
  {
   "cell_type": "code",
   "execution_count": null,
   "metadata": {},
   "outputs": [],
   "source": [
    "#|export\n",
    "def _get_comment(line, arg, comments, parms):\n",
    "    if line in comments: return comments[line].strip()\n",
    "    line -= 1\n",
    "    res = []\n",
    "    while line and line in comments and line not in parms:\n",
    "        res.append(comments[line])\n",
    "        line -= 1\n",
    "    return dedent('\\n'.join(reversed(res))) if res else None\n",
    "\n",
    "def _get_full(p, docs):\n",
    "    anno = p.annotation\n",
    "    if anno==empty:\n",
    "        if p.default!=empty: anno = type(p.default)\n",
    "        elif p.kind in (Parameter.VAR_POSITIONAL, Parameter.VAR_KEYWORD): anno = p.kind\n",
    "    return AttrDict(docment=docs.get(p.name), anno=anno, default=p.default)"
   ]
  },
  {
   "cell_type": "code",
   "execution_count": null,
   "metadata": {},
   "outputs": [
    {
     "data": {
      "text/plain": [
       "'the 1st number to add'"
      ]
     },
     "execution_count": null,
     "metadata": {},
     "output_type": "execute_result"
    }
   ],
   "source": [
    "_get_comment(2, 'a', {2: ' the 1st number to add'}, parms)"
   ]
  },
  {
   "cell_type": "code",
   "execution_count": null,
   "metadata": {},
   "outputs": [],
   "source": [
    "#|export\n",
    "def _merge_doc(dm, npdoc):\n",
    "    if not npdoc: return dm\n",
    "    if not dm.anno or dm.anno==empty: dm.anno = npdoc.type\n",
    "    if not dm.docment: dm.docment = '\\n'.join(npdoc.desc)\n",
    "    return dm\n",
    "\n",
    "def _merge_docs(dms, npdocs):\n",
    "    npparams = npdocs['Parameters']\n",
    "    params = {nm:_merge_doc(dm,npparams.get(nm,None)) for nm,dm in dms.items()}\n",
    "    if 'return' in dms: params['return'] = _merge_doc(dms['return'], npdocs['Returns'])\n",
    "    return params"
   ]
  },
  {
   "cell_type": "code",
   "execution_count": null,
   "metadata": {},
   "outputs": [],
   "source": [
    "#|export\n",
    "def _get_property_name(p):\n",
    "    \"Get the name of property `p`\"\n",
    "    if hasattr(p, 'fget'):\n",
    "        return p.fget.func.__qualname__ if hasattr(p.fget, 'func') else p.fget.__qualname__\n",
    "    else: return next(iter(re.findall(r'\\'(.*)\\'', str(p)))).split('.')[-1]"
   ]
  },
  {
   "cell_type": "code",
   "execution_count": null,
   "metadata": {},
   "outputs": [],
   "source": [
    "#|export\n",
    "def get_name(obj):\n",
    "    \"Get the name of `obj`\"\n",
    "    if hasattr(obj, '__name__'):       return obj.__name__\n",
    "    elif getattr(obj, '_name', False): return obj._name\n",
    "    elif hasattr(obj,'__origin__'):    return str(obj.__origin__).split('.')[-1] #for types\n",
    "    elif type(obj)==property:          return _get_property_name(obj)\n",
    "    else:                              return str(obj).split('.')[-1]"
   ]
  },
  {
   "cell_type": "code",
   "execution_count": null,
   "metadata": {},
   "outputs": [],
   "source": [
    "test_eq(get_name(in_ipython), 'in_ipython')\n",
    "test_eq(get_name(L.map), 'map')"
   ]
  },
  {
   "cell_type": "code",
   "execution_count": null,
   "metadata": {},
   "outputs": [],
   "source": [
    "#|export\n",
    "def qual_name(obj):\n",
    "    \"Get the qualified name of `obj`\"\n",
    "    if hasattr(obj,'__qualname__'): return obj.__qualname__\n",
    "    if ismethod(obj):       return f\"{get_name(obj.__self__)}.{get_name(fn)}\"\n",
    "    return get_name(obj)"
   ]
  },
  {
   "cell_type": "code",
   "execution_count": null,
   "metadata": {},
   "outputs": [],
   "source": [
    "assert qual_name(docscrape) == 'fastcore.docscrape'"
   ]
  },
  {
   "cell_type": "markdown",
   "metadata": {},
   "source": [
    "## Docments"
   ]
  },
  {
   "cell_type": "code",
   "execution_count": null,
   "metadata": {},
   "outputs": [],
   "source": [
    "#|export\n",
    "def _docments(s, returns=True, eval_str=False, args_kwargs=False):\n",
    "    \"`dict` of parameter names to 'docment-style' comments in function or string `s`\"\n",
    "    nps = parse_docstring(s)\n",
    "    if isclass(s) and not is_dataclass(s): s = s.__init__ # Constructor for a class\n",
    "    comments = {o.start[0]:_clean_comment(o.string) for o in _tokens(s) if o.type==COMMENT}\n",
    "    parms = _param_locs(s, returns=returns, args_kwargs=args_kwargs) or {}\n",
    "    docs = {arg:_get_comment(line, arg, comments, parms) for line,arg in parms.items()}\n",
    "\n",
    "    sig = signature_ex(s, True)\n",
    "    res = {name:_get_full(p, docs) for name,p in sig.parameters.items()}\n",
    "    if returns: res['return'] = AttrDict(docment=docs.get('return'), anno=sig.return_annotation, default=empty)\n",
    "    res = _merge_docs(res, nps)\n",
    "    if eval_str:\n",
    "        hints = type_hints(s)\n",
    "        for k,v in res.items():\n",
    "            if k in hints: v['anno'] = hints.get(k)\n",
    "    return res"
   ]
  },
  {
   "cell_type": "code",
   "execution_count": null,
   "metadata": {},
   "outputs": [],
   "source": [
    "#|export\n",
    "@delegates(_docments)\n",
    "def docments(elt, full=False, args_kwargs=False, **kwargs):\n",
    "    \"Generates a `docment`\"\n",
    "    if full: args_kwargs=True\n",
    "    r = {}\n",
    "    params = set(signature(elt).parameters)\n",
    "    params.add('return')\n",
    "\n",
    "    def _update_docments(f, r):\n",
    "        if hasattr(f, '__delwrap__'): _update_docments(f.__delwrap__, r)\n",
    "        r.update({k:v for k,v in _docments(f, **kwargs).items() if k in params\n",
    "                  and (v.get('docment', None) or not nested_idx(r, k, 'docment'))})\n",
    "\n",
    "    _update_docments(elt, r)\n",
    "    if not full: r = {k:v['docment'] for k,v in r.items()}\n",
    "    return AttrDict(r)"
   ]
  },
  {
   "cell_type": "markdown",
   "metadata": {},
   "source": [
    "The returned `dict` has parameter names as keys, docments as values. The return value comment appears in the `return`, unless `returns=False`. Using the `add` definition above, we get:"
   ]
  },
  {
   "cell_type": "code",
   "execution_count": null,
   "metadata": {},
   "outputs": [
    {
     "data": {
      "text/markdown": [
       "```json\n",
       "{ 'a': 'the 1st number to add',\n",
       "  'b': 'the 2nd number to add',\n",
       "  'return': 'the result of adding `a` to `b`'}\n",
       "```"
      ],
      "text/plain": [
       "{'a': 'the 1st number to add',\n",
       " 'b': 'the 2nd number to add',\n",
       " 'return': 'the result of adding `a` to `b`'}"
      ]
     },
     "execution_count": null,
     "metadata": {},
     "output_type": "execute_result"
    }
   ],
   "source": [
    "def add(\n",
    "    a:int, # the 1st number to add\n",
    "    b=0,   # the 2nd number to add\n",
    ")->int:    # the result of adding `a` to `b`\n",
    "    \"The sum of two numbers.\"\n",
    "    return a+b\n",
    "\n",
    "docments(add)"
   ]
  },
  {
   "cell_type": "markdown",
   "metadata": {},
   "source": [
    "`args_kwargs=True` adds args and kwargs docs too:"
   ]
  },
  {
   "cell_type": "code",
   "execution_count": null,
   "metadata": {},
   "outputs": [
    {
     "data": {
      "text/markdown": [
       "```json\n",
       "{ 'a': 'the 1st number to add',\n",
       "  'args': 'some args',\n",
       "  'b': 'the 2nd number to add',\n",
       "  'kwargs': None,\n",
       "  'return': 'the result of adding `a` to `b`'}\n",
       "```"
      ],
      "text/plain": [
       "{'args': 'some args',\n",
       " 'a': 'the 1st number to add',\n",
       " 'b': 'the 2nd number to add',\n",
       " 'kwargs': None,\n",
       " 'return': 'the result of adding `a` to `b`'}"
      ]
     },
     "execution_count": null,
     "metadata": {},
     "output_type": "execute_result"
    }
   ],
   "source": [
    "def add(*args, # some args\n",
    "    a:int, # the 1st number to add\n",
    "    b=0,   # the 2nd number to add\n",
    "    **kwargs, # Passed to the `example` function\n",
    ")->int:    # the result of adding `a` to `b`\n",
    "    \"The sum of two numbers.\"\n",
    "    return a+b\n",
    "\n",
    "docments(add, args_kwargs=True)"
   ]
  },
  {
   "cell_type": "markdown",
   "metadata": {},
   "source": [
    "If you pass `full=True`, the values are `dict` of defaults, types, and docments as values. Note that the type annotation is inferred from the default value, if the annotation is empty and a default is supplied. (Note that for `full`, `args_kwargs=True` is always set too.)"
   ]
  },
  {
   "cell_type": "code",
   "execution_count": null,
   "metadata": {},
   "outputs": [
    {
     "data": {
      "text/markdown": [
       "```json\n",
       "{ 'a': { 'anno': <class 'int'>,\n",
       "         'default': <class 'inspect._empty'>,\n",
       "         'docment': 'the 1st number to add'},\n",
       "  'args': { 'anno': <_ParameterKind.VAR_POSITIONAL: 2>,\n",
       "            'default': <class 'inspect._empty'>,\n",
       "            'docment': 'some args'},\n",
       "  'b': { 'anno': <class 'int'>,\n",
       "         'default': 0,\n",
       "         'docment': 'the 2nd number to add'},\n",
       "  'kwargs': { 'anno': <_ParameterKind.VAR_KEYWORD: 4>,\n",
       "              'default': <class 'inspect._empty'>,\n",
       "              'docment': None},\n",
       "  'return': { 'anno': <class 'int'>,\n",
       "              'default': <class 'inspect._empty'>,\n",
       "              'docment': 'the result of adding `a` to `b`'}}\n",
       "```"
      ],
      "text/plain": [
       "{'args': {'docment': 'some args',\n",
       "  'anno': <_ParameterKind.VAR_POSITIONAL: 2>,\n",
       "  'default': inspect._empty},\n",
       " 'a': {'docment': 'the 1st number to add',\n",
       "  'anno': int,\n",
       "  'default': inspect._empty},\n",
       " 'b': {'docment': 'the 2nd number to add', 'anno': int, 'default': 0},\n",
       " 'kwargs': {'docment': None,\n",
       "  'anno': <_ParameterKind.VAR_KEYWORD: 4>,\n",
       "  'default': inspect._empty},\n",
       " 'return': {'docment': 'the result of adding `a` to `b`',\n",
       "  'anno': int,\n",
       "  'default': inspect._empty}}"
      ]
     },
     "execution_count": null,
     "metadata": {},
     "output_type": "execute_result"
    }
   ],
   "source": [
    "docments(add, full=True)"
   ]
  },
  {
   "cell_type": "markdown",
   "metadata": {},
   "source": [
    "To evaluate stringified annotations (from python 3.10), use `eval_str`:"
   ]
  },
  {
   "cell_type": "code",
   "execution_count": null,
   "metadata": {},
   "outputs": [
    {
     "data": {
      "text/markdown": [
       "```json\n",
       "{ 'anno': <class 'int'>,\n",
       "  'default': <class 'inspect._empty'>,\n",
       "  'docment': 'the 1st number to add'}\n",
       "```"
      ],
      "text/plain": [
       "{'docment': 'the 1st number to add', 'anno': int, 'default': inspect._empty}"
      ]
     },
     "execution_count": null,
     "metadata": {},
     "output_type": "execute_result"
    }
   ],
   "source": [
    "docments(add, full=True, eval_str=True)['a']"
   ]
  },
  {
   "cell_type": "markdown",
   "metadata": {},
   "source": [
    "If you need more space to document a parameter, place one or more lines of comments above the parameter, or above the return type. You can mix-and-match these docment styles:"
   ]
  },
  {
   "cell_type": "code",
   "execution_count": null,
   "metadata": {},
   "outputs": [],
   "source": [
    "def add(\n",
    "    # The first operand\n",
    "    a:int,\n",
    "    # This is the second of the operands to the *addition* operator.\n",
    "    # Note that passing a negative value here is the equivalent of the *subtraction* operator.\n",
    "    b:int,\n",
    ")->int: # The result is calculated using Python's builtin `+` operator.\n",
    "    \"Add `a` to `b`\"\n",
    "    return a+b"
   ]
  },
  {
   "cell_type": "code",
   "execution_count": null,
   "metadata": {},
   "outputs": [
    {
     "data": {
      "text/markdown": [
       "```json\n",
       "{ 'a': 'The first operand',\n",
       "  'b': 'This is the second of the operands to the *addition* operator.\\n'\n",
       "       'Note that passing a negative value here is the equivalent of the '\n",
       "       '*subtraction* operator.',\n",
       "  'return': \"The result is calculated using Python's builtin `+` operator.\"}\n",
       "```"
      ],
      "text/plain": [
       "{'a': 'The first operand',\n",
       " 'b': 'This is the second of the operands to the *addition* operator.\\nNote that passing a negative value here is the equivalent of the *subtraction* operator.',\n",
       " 'return': \"The result is calculated using Python's builtin `+` operator.\"}"
      ]
     },
     "execution_count": null,
     "metadata": {},
     "output_type": "execute_result"
    }
   ],
   "source": [
    "docments(add)"
   ]
  },
  {
   "cell_type": "markdown",
   "metadata": {},
   "source": [
    "Docments works with async functions, too:"
   ]
  },
  {
   "cell_type": "code",
   "execution_count": null,
   "metadata": {},
   "outputs": [],
   "source": [
    "async def add_async(\n",
    "    # The first operand\n",
    "    a:int,\n",
    "    # This is the second of the operands to the *addition* operator.\n",
    "    # Note that passing a negative value here is the equivalent of the *subtraction* operator.\n",
    "    b:int,\n",
    ")->int: # The result is calculated using Python's builtin `+` operator.\n",
    "    \"Add `a` to `b`\"\n",
    "    return a+b"
   ]
  },
  {
   "cell_type": "code",
   "execution_count": null,
   "metadata": {},
   "outputs": [],
   "source": [
    "test_eq(docments(add_async), docments(add))"
   ]
  },
  {
   "cell_type": "markdown",
   "metadata": {},
   "source": [
    "You can also use docments with classes and methods:"
   ]
  },
  {
   "cell_type": "code",
   "execution_count": null,
   "metadata": {},
   "outputs": [],
   "source": [
    "class Adder:\n",
    "    \"An addition calculator\"\n",
    "    def __init__(self,\n",
    "        a:int, # First operand\n",
    "        b:int, # 2nd operand\n",
    "    ): self.a,self.b = a,b\n",
    "    \n",
    "    def calculate(self\n",
    "                 )->int: # Integral result of addition operator\n",
    "        \"Add `a` to `b`\"\n",
    "        return a+b"
   ]
  },
  {
   "cell_type": "code",
   "execution_count": null,
   "metadata": {},
   "outputs": [
    {
     "data": {
      "text/markdown": [
       "```json\n",
       "{'a': 'First operand', 'b': '2nd operand', 'return': None}\n",
       "```"
      ],
      "text/plain": [
       "{'a': 'First operand', 'b': '2nd operand', 'return': None}"
      ]
     },
     "execution_count": null,
     "metadata": {},
     "output_type": "execute_result"
    }
   ],
   "source": [
    "docments(Adder)"
   ]
  },
  {
   "cell_type": "code",
   "execution_count": null,
   "metadata": {},
   "outputs": [
    {
     "data": {
      "text/markdown": [
       "```json\n",
       "{'return': 'Integral result of addition operator', 'self': None}\n",
       "```"
      ],
      "text/plain": [
       "{'self': None, 'return': 'Integral result of addition operator'}"
      ]
     },
     "execution_count": null,
     "metadata": {},
     "output_type": "execute_result"
    }
   ],
   "source": [
    "docments(Adder.calculate)"
   ]
  },
  {
   "cell_type": "markdown",
   "metadata": {},
   "source": [
    "docments can also be extracted from numpy-style docstrings:"
   ]
  },
  {
   "cell_type": "code",
   "execution_count": null,
   "metadata": {},
   "outputs": [
    {
     "name": "stdout",
     "output_type": "stream",
     "text": [
      "The sum of two numbers.\n",
      "\n",
      "    Used to demonstrate numpy-style docstrings.\n",
      "\n",
      "Parameters\n",
      "----------\n",
      "a : int\n",
      "    the 1st number to add\n",
      "b : int\n",
      "    the 2nd number to add (default: 0)\n",
      "\n",
      "Returns\n",
      "-------\n",
      "int\n",
      "    the result of adding `a` to `b`\n"
     ]
    }
   ],
   "source": [
    "print(add_np.__doc__)"
   ]
  },
  {
   "cell_type": "code",
   "execution_count": null,
   "metadata": {},
   "outputs": [
    {
     "data": {
      "text/markdown": [
       "```json\n",
       "{ 'a': 'the 1st number to add',\n",
       "  'b': 'the 2nd number to add (default: 0)',\n",
       "  'return': 'the result of adding `a` to `b`'}\n",
       "```"
      ],
      "text/plain": [
       "{'a': 'the 1st number to add',\n",
       " 'b': 'the 2nd number to add (default: 0)',\n",
       " 'return': 'the result of adding `a` to `b`'}"
      ]
     },
     "execution_count": null,
     "metadata": {},
     "output_type": "execute_result"
    }
   ],
   "source": [
    "docments(add_np)"
   ]
  },
  {
   "cell_type": "markdown",
   "metadata": {},
   "source": [
    "You can even mix and match docments and numpy parameters:"
   ]
  },
  {
   "cell_type": "code",
   "execution_count": null,
   "metadata": {},
   "outputs": [],
   "source": [
    "def add_mixed(a:int, # the first number to add\n",
    "              b\n",
    "             )->int: # the result\n",
    "    \"\"\"The sum of two numbers.\n",
    "\n",
    "Parameters\n",
    "----------\n",
    "b : int\n",
    "    the 2nd number to add (default: 0)\"\"\"\n",
    "    return a+b"
   ]
  },
  {
   "cell_type": "code",
   "execution_count": null,
   "metadata": {},
   "outputs": [
    {
     "data": {
      "text/markdown": [
       "```json\n",
       "{ 'a': { 'anno': <class 'int'>,\n",
       "         'default': <class 'inspect._empty'>,\n",
       "         'docment': 'the first number to add'},\n",
       "  'b': { 'anno': 'int',\n",
       "         'default': <class 'inspect._empty'>,\n",
       "         'docment': 'the 2nd number to add (default: 0)'},\n",
       "  'return': { 'anno': <class 'int'>,\n",
       "              'default': <class 'inspect._empty'>,\n",
       "              'docment': 'the result'}}\n",
       "```"
      ],
      "text/plain": [
       "{'a': {'docment': 'the first number to add',\n",
       "  'anno': int,\n",
       "  'default': inspect._empty},\n",
       " 'b': {'docment': 'the 2nd number to add (default: 0)',\n",
       "  'anno': 'int',\n",
       "  'default': inspect._empty},\n",
       " 'return': {'docment': 'the result', 'anno': int, 'default': inspect._empty}}"
      ]
     },
     "execution_count": null,
     "metadata": {},
     "output_type": "execute_result"
    }
   ],
   "source": [
    "docments(add_mixed, full=True)"
   ]
  },
  {
   "cell_type": "markdown",
   "metadata": {},
   "source": [
    "You can use docments with dataclasses, however if the class was defined in online notebook, docments will not contain parameters' comments. This is because the source code is not available in the notebook. After converting the notebook to a module, the docments will be available. Thus, documentation will have correct parameters' comments."
   ]
  },
  {
   "cell_type": "code",
   "execution_count": null,
   "metadata": {},
   "outputs": [],
   "source": [
    "#|hide\n",
    "class _F:\n",
    "    @classmethod\n",
    "    def class_method(cls, \n",
    "                     foo:str, # docment for parameter foo\n",
    "                     ):...\n",
    "    \n",
    "test_eq(docments(_F.class_method), {'foo': 'docment for parameter foo', 'return': None})"
   ]
  },
  {
   "cell_type": "markdown",
   "metadata": {},
   "source": [
    "Docments even works with `delegates`:"
   ]
  },
  {
   "cell_type": "code",
   "execution_count": null,
   "metadata": {},
   "outputs": [],
   "source": [
    "from fastcore.meta import delegates"
   ]
  },
  {
   "cell_type": "code",
   "execution_count": null,
   "metadata": {},
   "outputs": [
    {
     "data": {
      "text/markdown": [
       "```json\n",
       "{'a': 'First', 'b': 'Second', 'return': None}\n",
       "```"
      ],
      "text/plain": [
       "{'a': 'First', 'return': None, 'b': 'Second'}"
      ]
     },
     "execution_count": null,
     "metadata": {},
     "output_type": "execute_result"
    }
   ],
   "source": [
    "def _a(a:int=2): return a # First\n",
    "\n",
    "@delegates(_a)\n",
    "def _b(b:str, # Second\n",
    "       **kwargs\n",
    "      ): # Return nothing\n",
    "    return b, (_a(**kwargs)) \n",
    "\n",
    "docments(_b)"
   ]
  },
  {
   "cell_type": "code",
   "execution_count": null,
   "metadata": {},
   "outputs": [
    {
     "data": {
      "text/markdown": [
       "```json\n",
       "{ 'a': {'anno': <class 'int'>, 'default': 2, 'docment': 'First'},\n",
       "  'b': { 'anno': 'str',\n",
       "         'default': <class 'inspect._empty'>,\n",
       "         'docment': 'Second'},\n",
       "  'return': { 'anno': <class 'inspect._empty'>,\n",
       "              'default': <class 'inspect._empty'>,\n",
       "              'docment': None}}\n",
       "```"
      ],
      "text/plain": [
       "{'a': {'docment': 'First', 'anno': int, 'default': 2},\n",
       " 'return': {'docment': None,\n",
       "  'anno': inspect._empty,\n",
       "  'default': inspect._empty},\n",
       " 'b': {'docment': 'Second', 'anno': 'str', 'default': inspect._empty}}"
      ]
     },
     "execution_count": null,
     "metadata": {},
     "output_type": "execute_result"
    }
   ],
   "source": [
    "docments(_b, full=True)"
   ]
  },
  {
   "cell_type": "code",
   "execution_count": null,
   "metadata": {},
   "outputs": [],
   "source": [
    "#|hide\n",
    "def _c(b:str, # Second\n",
    "       a:int=2): return b, a # Third\n",
    "\n",
    "@delegates(_c)\n",
    "def _d(c:int, # First\n",
    "       b:str, **kwargs\n",
    "      )->int: # Return an int\n",
    "    return c, _c(b, **kwargs)"
   ]
  },
  {
   "cell_type": "code",
   "execution_count": null,
   "metadata": {},
   "outputs": [],
   "source": [
    "#|hide\n",
    "test_eq(docments(_c, full=True)['b']['docment'],'Second')\n",
    "test_eq(docments(_d, full=True)['b']['docment'],'Second')\n",
    "_argset = {'a', 'b', 'c', 'return'}\n",
    "test_eq(docments(_d, full=True).keys() & _argset, _argset) # _d has the args a,b,c and return"
   ]
  },
  {
   "cell_type": "code",
   "execution_count": null,
   "metadata": {},
   "outputs": [],
   "source": [
    "#| export\n",
    "def sig2str(func):\n",
    "    \"Generate function signature with docments as comments\"\n",
    "    docs = docments(func, full=True)\n",
    "    params = []\n",
    "    for k,v in docs.items():\n",
    "        if k == 'return': continue\n",
    "        anno = getattr(v['anno'], '__name__', str(v['anno'])) if v['anno'] != inspect._empty else ''\n",
    "        if '|' in str(v['anno']): anno = str(v['anno'])\n",
    "        p = k + (f':{anno}' if anno and anno != 'inspect._empty' else '')\n",
    "        if v['default'] != inspect._empty:\n",
    "            d = getattr(v['default'], '__name__', v['default']) if hasattr(v['default'], '__name__') else v['default']\n",
    "            p += f'={d}' if d is not None else '=None'\n",
    "        if v['docment']: p += f' # {v[\"docment\"]}'\n",
    "        params.append(p)\n",
    "    \n",
    "    ret = docs.get('return', {})\n",
    "    ret_str = ':'\n",
    "    if ret and ret.get('anno')!=inspect._empty:\n",
    "        ret_str = f\"->{getattr(ret['anno'], '__name__', str(ret['anno']))}\" + (f': # {ret[\"docment\"]}' if ret.get('docment') else ':')\n",
    "    doc_str = f'    \"{func.__doc__}\"' if func.__doc__ else ''\n",
    "    return f\"def {func.__name__}(\\n    \" + \",\\n    \".join(params) + f\"\\n){ret_str}\\n{doc_str}\""
   ]
  },
  {
   "cell_type": "code",
   "execution_count": null,
   "metadata": {},
   "outputs": [
    {
     "name": "stdout",
     "output_type": "stream",
     "text": [
      "def _d(\n",
      "    b:str # Second,\n",
      "    a:int=2 # Third,\n",
      "    c:int # First\n",
      ")->int: # Return an int\n",
      "\n"
     ]
    }
   ],
   "source": [
    "print(sig2str(_d))"
   ]
  },
  {
   "cell_type": "markdown",
   "metadata": {},
   "source": [
    "## Extract docstrings"
   ]
  },
  {
   "cell_type": "code",
   "execution_count": null,
   "metadata": {},
   "outputs": [],
   "source": [
    "#| export\n",
    "def _get_params(node):\n",
    "    params = [a.arg for a in node.args.args]\n",
    "    if node.args.vararg: params.append(f\"*{node.args.vararg.arg}\")\n",
    "    if node.args.kwarg: params.append(f\"**{node.args.kwarg.arg}\")\n",
    "    return \", \".join(params)"
   ]
  },
  {
   "cell_type": "code",
   "execution_count": null,
   "metadata": {},
   "outputs": [],
   "source": [
    "#| export\n",
    "class _DocstringExtractor(ast.NodeVisitor):\n",
    "    def __init__(self): self.docstrings,self.cls,self.cls_init = {},None,None\n",
    "\n",
    "    def visit_FunctionDef(self, node):\n",
    "        name = node.name\n",
    "        if name == '__init__':\n",
    "            self.cls_init = node\n",
    "            return\n",
    "        elif name.startswith('_'): return\n",
    "        elif self.cls: name = f\"{self.cls}.{node.name}\"\n",
    "        docs = ast.get_docstring(node)\n",
    "        params = _get_params(node)\n",
    "        if docs: self.docstrings[name] = (docs, params)\n",
    "        self.generic_visit(node)\n",
    "\n",
    "    def visit_ClassDef(self, node):\n",
    "        self.cls,self.cls_init = node.name,None\n",
    "        docs = ast.get_docstring(node)\n",
    "        if docs: self.docstrings[node.name] = ()\n",
    "        self.generic_visit(node)\n",
    "        if not docs and self.cls_init: docs = ast.get_docstring(self.cls_init)\n",
    "        params = _get_params(self.cls_init) if self.cls_init else \"\"\n",
    "        if docs: self.docstrings[node.name] = (docs, params)\n",
    "        self.cls,self.cls_init = None,None\n",
    "\n",
    "    def visit_Module(self, node):\n",
    "        module_doc = ast.get_docstring(node)\n",
    "        if module_doc: self.docstrings['_module'] = (module_doc, \"\")\n",
    "        self.generic_visit(node)"
   ]
  },
  {
   "cell_type": "code",
   "execution_count": null,
   "metadata": {},
   "outputs": [],
   "source": [
    "#| export\n",
    "def extract_docstrings(code):\n",
    "    \"Create a dict from function/class/method names to tuples of docstrings and param lists\"\n",
    "    extractor = _DocstringExtractor()\n",
    "    extractor.visit(ast.parse(code))\n",
    "    return extractor.docstrings"
   ]
  },
  {
   "cell_type": "code",
   "execution_count": null,
   "metadata": {},
   "outputs": [],
   "source": [
    "sample_code = \"\"\"\n",
    "\"This is a module.\"\n",
    "\n",
    "def top_func(a, b, *args, **kw):\n",
    "    \"This is top-level.\"\n",
    "    pass\n",
    "\n",
    "class SampleClass:\n",
    "    \"This is a class.\"\n",
    "\n",
    "    def __init__(self, x, y):\n",
    "        \"Constructor for SampleClass.\"\n",
    "        pass\n",
    "\n",
    "    def method1(self, param1):\n",
    "        \"This is method1.\"\n",
    "        pass\n",
    "\n",
    "    def _private_method(self):\n",
    "        \"This should not be included.\"\n",
    "        pass\n",
    "\n",
    "class AnotherClass:\n",
    "    def __init__(self, a, b):\n",
    "        \"This class has no separate docstring.\"\n",
    "        pass\"\"\"\n",
    "\n",
    "exp = {'_module': ('This is a module.', ''),\n",
    "       'top_func': ('This is top-level.', 'a, b, *args, **kw'),\n",
    "       'SampleClass': ('This is a class.', 'self, x, y'),\n",
    "       'SampleClass.method1': ('This is method1.', 'self, param1'),\n",
    "       'AnotherClass': ('This class has no separate docstring.', 'self, a, b')}\n",
    "test_eq(extract_docstrings(sample_code), exp)"
   ]
  },
  {
   "cell_type": "markdown",
   "metadata": {},
   "source": [
    "## Rendering docment Tables"
   ]
  },
  {
   "cell_type": "markdown",
   "metadata": {},
   "source": [
    "Render nicely formatted tables that shows `docments` for any function or method.  "
   ]
  },
  {
   "cell_type": "code",
   "execution_count": null,
   "metadata": {},
   "outputs": [],
   "source": [
    "#|export\n",
    "def _non_empty_keys(d:dict): return L([k for k,v in d.items() if v != inspect._empty])\n",
    "def _bold(s): return f'**{s}**' if s.strip() else s"
   ]
  },
  {
   "cell_type": "code",
   "execution_count": null,
   "metadata": {},
   "outputs": [],
   "source": [
    "#|export\n",
    "def _escape_markdown(s):\n",
    "    for c in '|^': s = re.sub(rf'\\\\?\\{c}', rf'\\{c}', s)\n",
    "    return s.replace('\\n', '<br>')"
   ]
  },
  {
   "cell_type": "code",
   "execution_count": null,
   "metadata": {},
   "outputs": [],
   "source": [
    "#|hide\n",
    "test_eq(_escape_markdown('|'), '\\|')\n",
    "test_eq(_escape_markdown('\\|'), '\\|')\n",
    "test_eq(_escape_markdown(' ^[_'), ' \\^[_') # footnotes\n",
    "test_eq(_escape_markdown('foo ^[_'), 'foo \\^[_')\n",
    "test_eq(_escape_markdown(' \\^[_'), ' \\^[_') #if it is already escaped leave it alone\n",
    "test_eq(_escape_markdown('a long\\nsentence'), 'a long<br>sentence')"
   ]
  },
  {
   "cell_type": "code",
   "execution_count": null,
   "metadata": {},
   "outputs": [],
   "source": [
    "#|export\n",
    "def _maybe_nm(o):\n",
    "    if (o == inspect._empty): return ''\n",
    "    else: return o.__name__ if hasattr(o, '__name__') else _escape_markdown(str(o))"
   ]
  },
  {
   "cell_type": "code",
   "execution_count": null,
   "metadata": {},
   "outputs": [],
   "source": [
    "#|hide\n",
    "test_eq(_maybe_nm(list), 'list')\n",
    "test_eq(_maybe_nm('fastai'), 'fastai')"
   ]
  },
  {
   "cell_type": "code",
   "execution_count": null,
   "metadata": {},
   "outputs": [],
   "source": [
    "#|export\n",
    "def _list2row(l:list): return '| '+' | '.join([_maybe_nm(o) for o in l]) + ' |'"
   ]
  },
  {
   "cell_type": "code",
   "execution_count": null,
   "metadata": {},
   "outputs": [],
   "source": [
    "#|hide\n",
    "test_eq(_list2row(['Hamel', 'Jeremy']), '| Hamel | Jeremy |')\n",
    "test_eq(_list2row([inspect._empty, bool, 'foo']), '|  | bool | foo |')"
   ]
  },
  {
   "cell_type": "code",
   "execution_count": null,
   "metadata": {},
   "outputs": [],
   "source": [
    "#|export\n",
    "class DocmentTbl:\n",
    "    # this is the column order we want these items to appear\n",
    "    _map = {'anno':'Type', 'default':'Default', 'docment':'Details'}\n",
    "\n",
    "    def __init__(self, obj, verbose=True, returns=True):\n",
    "        \"Compute the docment table string\"\n",
    "        self.verbose = verbose\n",
    "        self.returns = False if isdataclass(obj) else returns\n",
    "        try: self.params = L(signature_ex(obj, eval_str=True).parameters.keys())\n",
    "        except (ValueError,TypeError): self.params=[]\n",
    "        try: _dm = docments(obj, full=True, returns=returns)\n",
    "        except: _dm = {}\n",
    "        if 'self' in _dm: del _dm['self']\n",
    "        for d in _dm.values(): d['docment'] = ifnone(d['docment'], inspect._empty)\n",
    "        self.dm = _dm\n",
    "\n",
    "    @property\n",
    "    def _columns(self):\n",
    "        \"Compute the set of fields that have at least one non-empty value so we don't show tables empty columns\"\n",
    "        cols = set(flatten(L(self.dm.values()).filter().map(_non_empty_keys)))\n",
    "        candidates = self._map if self.verbose else {'docment': 'Details'}\n",
    "        return {k:v for k,v in candidates.items() if k in cols}\n",
    "\n",
    "    @property\n",
    "    def has_docment(self): return 'docment' in self._columns and self._row_list\n",
    "\n",
    "    @property\n",
    "    def has_return(self): return self.returns and bool(_non_empty_keys(self.dm.get('return', {})))\n",
    "\n",
    "    def _row(self, nm, props):\n",
    "        \"unpack data for single row to correspond with column names.\"\n",
    "        return [nm] + [props[c] for c in self._columns]\n",
    "\n",
    "    @property\n",
    "    def _row_list(self):\n",
    "        \"unpack data for all rows.\"\n",
    "        ordered_params = [(p, self.dm[p]) for p in self.params if p != 'self' and p in self.dm]\n",
    "        return L([self._row(nm, props) for nm,props in ordered_params])\n",
    "\n",
    "    @property\n",
    "    def _hdr_list(self): return ['  '] + [_bold(l) for l in L(self._columns.values())]\n",
    "\n",
    "    @property\n",
    "    def hdr_str(self):\n",
    "        \"The markdown string for the header portion of the table\"\n",
    "        md = _list2row(self._hdr_list)\n",
    "        return md + '\\n' + _list2row(['-' * len(l) for l in self._hdr_list])\n",
    "\n",
    "    @property\n",
    "    def params_str(self):\n",
    "        \"The markdown string for the parameters portion of the table.\"\n",
    "        return '\\n'.join(self._row_list.map(_list2row))\n",
    "\n",
    "    @property\n",
    "    def return_str(self):\n",
    "        \"The markdown string for the returns portion of the table.\"\n",
    "        return _list2row(['**Returns**']+[_bold(_maybe_nm(self.dm['return'][c])) for c in self._columns])\n",
    "\n",
    "    def _repr_markdown_(self):\n",
    "        if not self.has_docment: return ''\n",
    "        _tbl = [self.hdr_str, self.params_str]\n",
    "        if self.has_return: _tbl.append(self.return_str)\n",
    "        return '\\n'.join(_tbl)\n",
    "\n",
    "    def __eq__(self,other): return self.__str__() == str(other).strip()\n",
    "\n",
    "    __str__ = _repr_markdown_\n",
    "    __repr__ = basic_repr()"
   ]
  },
  {
   "cell_type": "markdown",
   "metadata": {},
   "source": [
    "`DocmentTbl` can render a markdown table showing `docments` if appropriate.  This is an example of how a `docments` table will render for a function:"
   ]
  },
  {
   "cell_type": "code",
   "execution_count": null,
   "metadata": {},
   "outputs": [
    {
     "data": {
      "text/markdown": [
       "|    | **Type** | **Default** | **Details** |\n",
       "| -- | -------- | ----------- | ----------- |\n",
       "| a |  |  | description of param a |\n",
       "| b | bool | True | description of param b |\n",
       "| c | str | None |  |\n",
       "| **Returns** | **int** |  |  |"
      ],
      "text/plain": [
       "DocmentTbl(verbose=True, returns=True, params=['a', 'b', 'c'], dm={'a': {'docment': 'description of param a', 'anno': <class 'inspect._empty'>, 'default': <class 'inspect._empty'>}, 'b': {'docment': 'description of param b', 'anno': <class 'bool'>, 'default': True}, 'c': {'docment': <class 'inspect._empty'>, 'anno': <class 'str'>, 'default': None}, 'return': {'docment': <class 'inspect._empty'>, 'anno': <class 'int'>, 'default': <class 'inspect._empty'>}})"
      ]
     },
     "execution_count": null,
     "metadata": {},
     "output_type": "execute_result"
    }
   ],
   "source": [
    "def _f(a,      # description of param a\n",
    "       b=True, # description of param b\n",
    "       c:str=None\n",
    "       ) -> int: ...\n",
    "\n",
    "_dm = DocmentTbl(_f)\n",
    "_dm"
   ]
  },
  {
   "cell_type": "code",
   "execution_count": null,
   "metadata": {},
   "outputs": [],
   "source": [
    "#|hide\n",
    "_exp_res=\"\"\"\n",
    "|    | **Type** | **Default** | **Details** |\n",
    "| -- | -------- | ----------- | ----------- |\n",
    "| a |  |  | description of param a |\n",
    "| b | bool | True | description of param b |\n",
    "| c | str | None |  |\n",
    "| **Returns** | **int** |  |  |\n",
    "\"\"\"\n",
    "\n",
    "test_eq(_dm, _exp_res)"
   ]
  },
  {
   "cell_type": "markdown",
   "metadata": {},
   "source": [
    "If one column in the table has no information, for example because there are no default values, that column will not be shown.  In the below example, the **Default** column, will not be shown.  Additionally, if the return of the function is not annotated the **Returns** row will not be rendered:"
   ]
  },
  {
   "cell_type": "code",
   "execution_count": null,
   "metadata": {},
   "outputs": [
    {
     "data": {
      "text/markdown": [
       "|    | **Details** |\n",
       "| -- | ----------- |\n",
       "| a |  |\n",
       "| b | param b |\n",
       "| c | param c |"
      ],
      "text/plain": [
       "DocmentTbl(verbose=True, returns=True, params=['a', 'b', 'c'], dm={'a': {'docment': <class 'inspect._empty'>, 'anno': <class 'inspect._empty'>, 'default': <class 'inspect._empty'>}, 'b': {'docment': 'param b', 'anno': <class 'inspect._empty'>, 'default': <class 'inspect._empty'>}, 'c': {'docment': 'param c', 'anno': <class 'inspect._empty'>, 'default': <class 'inspect._empty'>}, 'return': {'docment': <class 'inspect._empty'>, 'anno': <class 'inspect._empty'>, 'default': <class 'inspect._empty'>}})"
      ]
     },
     "execution_count": null,
     "metadata": {},
     "output_type": "execute_result"
    }
   ],
   "source": [
    "def _f(a,\n",
    "        b, #param b\n",
    "        c  #param c\n",
    "       ): ...\n",
    "\n",
    "_dm2 = DocmentTbl(_f)\n",
    "_dm2"
   ]
  },
  {
   "cell_type": "code",
   "execution_count": null,
   "metadata": {},
   "outputs": [],
   "source": [
    "#|hide\n",
    "_exp_res2 = \"\"\"\n",
    "|    | **Details** |\n",
    "| -- | ----------- |\n",
    "| a |  |\n",
    "| b | param b |\n",
    "| c | param c |\n",
    "\"\"\"\n",
    "\n",
    "test_eq(_dm2, _exp_res2)"
   ]
  },
  {
   "cell_type": "markdown",
   "metadata": {},
   "source": [
    "`DocmentTbl` also works on classes.  By default, the `__init__` will be rendered:"
   ]
  },
  {
   "cell_type": "code",
   "execution_count": null,
   "metadata": {},
   "outputs": [],
   "source": [
    "class _Test:\n",
    "    def __init__(self,\n",
    "                 a,      # description of param a\n",
    "                 b=True, # description of param b\n",
    "                 c:str=None):\n",
    "        ...\n",
    "\n",
    "    def foo(self,\n",
    "            c:int,      # description of param c\n",
    "            d=True, # description of param d\n",
    "           ):\n",
    "        ..."
   ]
  },
  {
   "cell_type": "code",
   "execution_count": null,
   "metadata": {},
   "outputs": [
    {
     "data": {
      "text/markdown": [
       "|    | **Type** | **Default** | **Details** |\n",
       "| -- | -------- | ----------- | ----------- |\n",
       "| a |  |  | description of param a |\n",
       "| b | bool | True | description of param b |\n",
       "| c | str | None |  |"
      ],
      "text/plain": [
       "DocmentTbl(verbose=True, returns=True, params=['a', 'b', 'c'], dm={'a': {'docment': 'description of param a', 'anno': <class 'inspect._empty'>, 'default': <class 'inspect._empty'>}, 'b': {'docment': 'description of param b', 'anno': <class 'bool'>, 'default': True}, 'c': {'docment': <class 'inspect._empty'>, 'anno': <class 'str'>, 'default': None}, 'return': {'docment': <class 'inspect._empty'>, 'anno': <class 'inspect._empty'>, 'default': <class 'inspect._empty'>}})"
      ]
     },
     "execution_count": null,
     "metadata": {},
     "output_type": "execute_result"
    }
   ],
   "source": [
    "DocmentTbl(_Test)"
   ]
  },
  {
   "cell_type": "markdown",
   "metadata": {},
   "source": [
    "You can also pass a method to be rendered as well:"
   ]
  },
  {
   "cell_type": "code",
   "execution_count": null,
   "metadata": {},
   "outputs": [
    {
     "data": {
      "text/markdown": [
       "|    | **Type** | **Default** | **Details** |\n",
       "| -- | -------- | ----------- | ----------- |\n",
       "| c | int |  | description of param c |\n",
       "| d | bool | True | description of param d |"
      ],
      "text/plain": [
       "DocmentTbl(verbose=True, returns=True, params=['self', 'c', 'd'], dm={'c': {'docment': 'description of param c', 'anno': <class 'int'>, 'default': <class 'inspect._empty'>}, 'd': {'docment': 'description of param d', 'anno': <class 'bool'>, 'default': True}, 'return': {'docment': <class 'inspect._empty'>, 'anno': <class 'inspect._empty'>, 'default': <class 'inspect._empty'>}})"
      ]
     },
     "execution_count": null,
     "metadata": {},
     "output_type": "execute_result"
    }
   ],
   "source": [
    "DocmentTbl(_Test.foo)"
   ]
  },
  {
   "cell_type": "code",
   "execution_count": null,
   "metadata": {},
   "outputs": [],
   "source": [
    "#|hide\n",
    "_exp_res3 = \"\"\"\n",
    "|    | **Type** | **Default** | **Details** |\n",
    "| -- | -------- | ----------- | ----------- |\n",
    "| c | int |  | description of param c |\n",
    "| d | bool | True | description of param d |\n",
    "\"\"\"\n",
    "\n",
    "test_eq(DocmentTbl(_Test.foo), _exp_res3)"
   ]
  },
  {
   "cell_type": "markdown",
   "metadata": {},
   "source": [
    "## Documentation For An Object"
   ]
  },
  {
   "cell_type": "markdown",
   "metadata": {},
   "source": [
    "Render the signature as well as the `docments` to show complete documentation for an object."
   ]
  },
  {
   "cell_type": "code",
   "execution_count": null,
   "metadata": {},
   "outputs": [],
   "source": [
    "#|export\n",
    "def _docstring(sym):\n",
    "    npdoc = parse_docstring(sym)\n",
    "    return '\\n\\n'.join([npdoc['Summary'], npdoc['Extended']]).strip()"
   ]
  },
  {
   "cell_type": "code",
   "execution_count": null,
   "metadata": {},
   "outputs": [],
   "source": [
    "#|export\n",
    "def _fullname(o):\n",
    "    module,name = getattr(o, \"__module__\", None),qual_name(o)\n",
    "    return name if module is None or module in ('__main__','builtins') else module + '.' + name\n",
    "\n",
    "class ShowDocRenderer:\n",
    "    def __init__(self, sym, name:str|None=None, title_level:int=3):\n",
    "        \"Show documentation for `sym`\"\n",
    "        sym = getattr(sym, '__wrapped__', sym)\n",
    "        sym = getattr(sym, 'fget', None) or getattr(sym, 'fset', None) or sym\n",
    "        store_attr()\n",
    "        self.nm = name or qual_name(sym)\n",
    "        self.isfunc = inspect.isfunction(sym)\n",
    "        try: self.sig = signature_ex(sym, eval_str=True)\n",
    "        except (ValueError,TypeError): self.sig = None\n",
    "        self.docs = _docstring(sym)\n",
    "        self.dm = DocmentTbl(sym)\n",
    "        self.fn = _fullname(sym)\n",
    "\n",
    "    __repr__ = basic_repr()"
   ]
  },
  {
   "cell_type": "code",
   "execution_count": null,
   "metadata": {},
   "outputs": [],
   "source": [
    "#|export\n",
    "def _f_name(o): return f'<function {o.__name__}>' if isinstance(o, FunctionType) else None\n",
    "def _fmt_anno(o): return inspect.formatannotation(o).strip(\"'\").replace(' ','')\n",
    "\n",
    "def _show_param(param):\n",
    "    \"Like `Parameter.__str__` except removes: quotes in annos, spaces, ids in reprs\"\n",
    "    kind,res,anno,default = param.kind,param._name,param._annotation,param._default\n",
    "    kind = '*' if kind==inspect._VAR_POSITIONAL else '**' if kind==inspect._VAR_KEYWORD else ''\n",
    "    res = kind+res\n",
    "    if anno is not inspect._empty: res += f':{_f_name(anno) or _fmt_anno(anno)}'\n",
    "    if default is not inspect._empty: res += f'={_f_name(default) or repr(default)}'\n",
    "    return res"
   ]
  },
  {
   "cell_type": "code",
   "execution_count": null,
   "metadata": {},
   "outputs": [],
   "source": [
    "#|hide\n",
    "def _func(): pass\n",
    "p = Parameter('foo', Parameter.POSITIONAL_OR_KEYWORD, default=_func, annotation='Callable')\n",
    "test_eq(_show_param(p), 'foo:Callable=<function _func>')\n",
    "p = p.replace(annotation=_func)\n",
    "test_eq(_show_param(p), 'foo:<function _func>=<function _func>')"
   ]
  },
  {
   "cell_type": "code",
   "execution_count": null,
   "metadata": {},
   "outputs": [],
   "source": [
    "#|export\n",
    "def _fmt_sig(sig):\n",
    "    if sig is None: return ''\n",
    "    p = {k:v for k,v in sig.parameters.items()}\n",
    "    _params = [_show_param(p[k]) for k in p.keys() if k != 'self']\n",
    "    return \"(\" + ', '.join(_params)  + \")\"\n",
    "\n",
    "def _wrap_sig(s):\n",
    "    \"wrap a signature to appear on multiple lines if necessary.\"\n",
    "    pad = '> ' + ' ' * 5\n",
    "    indent = pad + ' ' * (s.find('(') + 1)\n",
    "    return fill(s, width=80, initial_indent=pad, subsequent_indent=indent)\n",
    "\n",
    "def _ital_first(s:str):\n",
    "    \"Surround first line with * for markdown italics, preserving leading spaces\"\n",
    "    return re.sub(r'^(\\s*)(.+)', r'\\1*\\2*', s, count=1)"
   ]
  },
  {
   "cell_type": "code",
   "execution_count": null,
   "metadata": {},
   "outputs": [],
   "source": [
    "#|hide\n",
    "def _long_f(a_param, b_param=True, c_param:str='Some quite long value', d:int=2, e:bool=False):\n",
    "    \"A docstring\"\n",
    "    ...\n",
    "\n",
    "_res = \">      (a_param, b_param=True, c_param:str='Some quite long value', d:int=2,\\n>       e:bool=False)\"\n",
    "_sig = _fmt_sig(signature_ex(_long_f, eval_str=True))\n",
    "test_eq(_wrap_sig(_sig), _res)"
   ]
  },
  {
   "cell_type": "code",
   "execution_count": null,
   "metadata": {},
   "outputs": [],
   "source": [
    "#|export\n",
    "def _ext_link(url, txt, xtra=\"\"): return f'[{txt}]({url}){{target=\"_blank\" {xtra}}}'\n",
    "\n",
    "class MarkdownRenderer(ShowDocRenderer):\n",
    "    \"Markdown renderer for `show_doc`\"\n",
    "    def _repr_markdown_(self):\n",
    "        doc = _wrap_sig(f\"{self.nm} {_fmt_sig(self.sig)}\") if self.sig else ''\n",
    "        if self.docs: doc += f\"\\n\\n{_ital_first(self.docs)}\"\n",
    "        if self.dm.has_docment: doc += f\"\\n\\n{self.dm}\"\n",
    "        return doc\n",
    "    __repr__=__str__=_repr_markdown_"
   ]
  },
  {
   "cell_type": "code",
   "execution_count": null,
   "metadata": {},
   "outputs": [
    {
     "data": {
      "text/markdown": [
       ">      _f (a, b:int, c:str='foo')\n",
       "\n",
       "*Do a thing*\n",
       "\n",
       "|    | **Type** | **Default** | **Details** |\n",
       "| -- | -------- | ----------- | ----------- |\n",
       "| a |  |  |  |\n",
       "| b | int |  | param b |\n",
       "| c | str | foo | param c |\n",
       "| **Returns** | **str** |  | **Result of doing it** |"
      ],
      "text/plain": [
       ">      _f (a, b:int, c:str='foo')\n",
       "\n",
       "*Do a thing*\n",
       "\n",
       "|    | **Type** | **Default** | **Details** |\n",
       "| -- | -------- | ----------- | ----------- |\n",
       "| a |  |  |  |\n",
       "| b | int |  | param b |\n",
       "| c | str | foo | param c |\n",
       "| **Returns** | **str** |  | **Result of doing it** |"
      ]
     },
     "execution_count": null,
     "metadata": {},
     "output_type": "execute_result"
    }
   ],
   "source": [
    "def _f(a,\n",
    "        b:int, #param b\n",
    "        c:str='foo'  #param c\n",
    "       )->str: # Result of doing it\n",
    "    \"Do a thing\"\n",
    "    ...\n",
    "\n",
    "MarkdownRenderer(_f)"
   ]
  },
  {
   "cell_type": "markdown",
   "metadata": {},
   "source": [
    "## Export -"
   ]
  },
  {
   "cell_type": "code",
   "execution_count": null,
   "metadata": {},
   "outputs": [],
   "source": [
    "#|hide\n",
    "import nbdev; nbdev.nbdev_export()"
   ]
  },
  {
   "cell_type": "code",
   "execution_count": null,
   "metadata": {},
   "outputs": [],
   "source": []
  }
 ],
 "metadata": {
  "kernelspec": {
   "display_name": "python3",
   "language": "python",
   "name": "python3"
  }
 },
 "nbformat": 4,
 "nbformat_minor": 4
}
