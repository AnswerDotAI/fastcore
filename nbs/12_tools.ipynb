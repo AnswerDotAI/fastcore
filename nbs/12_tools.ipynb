{
 "cells": [
  {
   "cell_type": "code",
   "execution_count": null,
   "id": "e23f3fbd",
   "metadata": {},
   "outputs": [],
   "source": [
    "#| default_exp tools"
   ]
  },
  {
   "cell_type": "markdown",
   "id": "5e356282",
   "metadata": {},
   "source": [
    "# LLM tools\n",
    "> Helpful tools for running cli commands and reading, modifying, and creating files in python. This is used primarily for AI's in tool loops for automating tasks involving the filesystem."
   ]
  },
  {
   "cell_type": "code",
   "execution_count": null,
   "id": "578246d2",
   "metadata": {},
   "outputs": [],
   "source": [
    "#| export\n",
    "from fastcore.utils import *\n",
    "from shlex import split\n",
    "from subprocess import run, DEVNULL"
   ]
  },
  {
   "cell_type": "code",
   "execution_count": null,
   "id": "490fb7ce",
   "metadata": {},
   "outputs": [],
   "source": [
    "#| hide\n",
    "from fastcore.test import test_eq\n",
    "from toolslm.funccall import get_schema\n",
    "import inspect"
   ]
  },
  {
   "cell_type": "markdown",
   "id": "55a65ce3",
   "metadata": {},
   "source": [
    "## Bash Tools"
   ]
  },
  {
   "cell_type": "code",
   "execution_count": null,
   "id": "1182336d",
   "metadata": {},
   "outputs": [],
   "source": [
    "#| export\n",
    "def run_cmd(\n",
    "    cmd:str, # The command name to run\n",
    "    argstr:str='', # All args to the command, will be split with shlex\n",
    "    disallow_re:str=None, # optional regex which, if matched on argstr, will disallow the command\n",
    "    allow_re:str=None # optional regex which, if not matched on argstr, will disallow the command\n",
    "):\n",
    "    \"Run `cmd` passing split `argstr`, optionally checking for allowed argstr\"\n",
    "    if disallow_re and re.search(disallow_re, argstr): return 'Error: args disallowed'\n",
    "    if allow_re    and re.search(   allow_re, argstr): return 'Error: args not allowed'\n",
    "    try: outp = run([cmd] + split(argstr), text=True, stdin=DEVNULL, capture_output=True)\n",
    "    except Exception as e: return f'Error running cmd: {str(e)}'\n",
    "    res = outp.stdout\n",
    "    if res and outp.stderr: res += '\\n'\n",
    "    return res + outp.stderr"
   ]
  },
  {
   "cell_type": "markdown",
   "id": "8a7d1ffc",
   "metadata": {},
   "source": [
    "With this little function, we can now run any cli command:"
   ]
  },
  {
   "cell_type": "code",
   "execution_count": null,
   "id": "7a6f8256",
   "metadata": {},
   "outputs": [
    {
     "name": "stdout",
     "output_type": "stream",
     "text": [
      "000_tour.ipynb\n",
      "00_test.ipynb\n",
      "01_basics.ipynb\n",
      "02_foundation.ipynb\n",
      "03_xtras.ipynb\n",
      "03a_parallel.ipynb\n",
      "03b_net.ipynb\n",
      "04_docments.ipy\n"
     ]
    }
   ],
   "source": [
    "print(run_cmd('ls')[:128])"
   ]
  },
  {
   "cell_type": "markdown",
   "id": "ee40009c",
   "metadata": {},
   "source": [
    "Note that, for tool safety, this is not passed through the shell, so wildcards, env vars, etc will not work:"
   ]
  },
  {
   "cell_type": "code",
   "execution_count": null,
   "id": "04991f6f",
   "metadata": {},
   "outputs": [
    {
     "name": "stdout",
     "output_type": "stream",
     "text": [
      "ls: f*: No such file or directory\n",
      "\n"
     ]
    }
   ],
   "source": [
    "print(run_cmd('ls', 'f*')[:128])"
   ]
  },
  {
   "cell_type": "markdown",
   "id": "c98af7cc",
   "metadata": {},
   "source": [
    "Let's create some useful functions from this that will allow for searching, reading and modifing content on the file system."
   ]
  },
  {
   "cell_type": "code",
   "execution_count": null,
   "id": "eb253a39",
   "metadata": {},
   "outputs": [],
   "source": [
    "#| export\n",
    "def rg(\n",
    "    argstr:str, # All args to the command, will be split with shlex\n",
    "    disallow_re:str=None, # optional regex which, if matched on argstr, will disallow the command\n",
    "    allow_re:str=None # optional regex which, if not matched on argstr, will disallow the command\n",
    "):\n",
    "    \"Run the `rg` command with the args in `argstr` (no need to backslash escape)\"\n",
    "    return run_cmd('rg', '-n '+argstr, disallow_re=disallow_re, allow_re=allow_re)"
   ]
  },
  {
   "cell_type": "code",
   "execution_count": null,
   "id": "e26cdce2",
   "metadata": {},
   "outputs": [
    {
     "data": {
      "text/plain": [
       "'1:fastcore.fast.ai\\n'"
      ]
     },
     "execution_count": null,
     "metadata": {},
     "output_type": "execute_result"
    }
   ],
   "source": [
    "rg('fast.ai CNAME')"
   ]
  },
  {
   "cell_type": "markdown",
   "id": "3222e44a",
   "metadata": {},
   "source": [
    "Functions implemented with `run_cmd` like this one can be passed regexps to allow or disallow arg strs, i.e to block parent or root directories:"
   ]
  },
  {
   "cell_type": "code",
   "execution_count": null,
   "id": "0852c259",
   "metadata": {},
   "outputs": [
    {
     "data": {
      "text/plain": [
       "'Error: args disallowed'"
      ]
     },
     "execution_count": null,
     "metadata": {},
     "output_type": "execute_result"
    }
   ],
   "source": [
    "disallowed = r' /|\\.\\.'\n",
    "rg('info@fast.ai ..', disallow_re=disallowed)"
   ]
  },
  {
   "cell_type": "code",
   "execution_count": null,
   "id": "8b27448c",
   "metadata": {},
   "outputs": [
    {
     "data": {
      "text/plain": [
       "'Error: args disallowed'"
      ]
     },
     "execution_count": null,
     "metadata": {},
     "output_type": "execute_result"
    }
   ],
   "source": [
    "rg('info@fast.ai /', disallow_re=disallowed)"
   ]
  },
  {
   "cell_type": "code",
   "execution_count": null,
   "id": "2580269c",
   "metadata": {},
   "outputs": [
    {
     "name": "stdout",
     "output_type": "stream",
     "text": [
      "1:fastcore.fast.ai\n",
      "\n"
     ]
    }
   ],
   "source": [
    "print(rg('fast.ai CNAME', disallow_re=disallowed))"
   ]
  },
  {
   "cell_type": "markdown",
   "id": "345a22df",
   "metadata": {},
   "source": [
    "NB: These tools have special behavior around errors. Since these have been speficially designed for work with LLMs, any exceptions created from there use is returned as a string to help them debug their work."
   ]
  },
  {
   "cell_type": "code",
   "execution_count": null,
   "id": "472ed6a5",
   "metadata": {},
   "outputs": [
    {
     "data": {
      "text/plain": [
       "\"Error running cmd: [Errno 2] No such file or directory: 'asdfe'\""
      ]
     },
     "execution_count": null,
     "metadata": {},
     "output_type": "execute_result"
    }
   ],
   "source": [
    "run_cmd('asdfe')"
   ]
  },
  {
   "cell_type": "code",
   "execution_count": null,
   "id": "09de7b32",
   "metadata": {},
   "outputs": [],
   "source": [
    "#| export\n",
    "def sed(\n",
    "    argstr:str, # All args to the command, will be split with shlex\n",
    "    disallow_re:str=None, # optional regex which, if matched on argstr, will disallow the command\n",
    "    allow_re:str=None # optional regex which, if not matched on argstr, will disallow the command\n",
    "):\n",
    "    \"Run the `sed` command with the args in `argstr` (e.g for reading a section of a file)\"\n",
    "    return run_cmd('sed', argstr, allow_re=allow_re, disallow_re=disallow_re)"
   ]
  },
  {
   "cell_type": "code",
   "execution_count": null,
   "id": "64b985df",
   "metadata": {},
   "outputs": [
    {
     "name": "stdout",
     "output_type": "stream",
     "text": [
      "project:\n",
      "  type: website\n",
      "  pre-render: \n",
      "    - pysym2md --output_file apilist.txt fastcore\n",
      "  post-render: \n",
      "\n"
     ]
    }
   ],
   "source": [
    "print(sed('-n \"1,5 p\" _quarto.yml'))"
   ]
  },
  {
   "cell_type": "code",
   "execution_count": null,
   "id": "de648f3e",
   "metadata": {},
   "outputs": [
    {
     "name": "stdout",
     "output_type": "stream",
     "text": [
      "1\n",
      "project:\n",
      "2\n",
      "  type: website\n",
      "3\n",
      "  pre-render: \n",
      "4\n",
      "    - pysym2md --output_file apilist.txt fastcore\n",
      "5\n",
      "  post-render: \n",
      "\n"
     ]
    }
   ],
   "source": [
    "# Print line numbers too\n",
    "print(sed('-n \"1,5 {=;p;}\" _quarto.yml'))"
   ]
  },
  {
   "cell_type": "markdown",
   "id": "290b38eb",
   "metadata": {},
   "source": [
    "## Text Edit Tools"
   ]
  },
  {
   "cell_type": "markdown",
   "id": "d3cd7681",
   "metadata": {},
   "source": [
    "Python implementations of the text editor tools from [Anthropic](https://docs.claude.com/en/docs/agents-and-tools/tool-use/text-editor-tool). These tools are especially useful in an AI's tool loop. See [`claudette`](https://claudette.answer.ai/text_editor.html) for examples."
   ]
  },
  {
   "cell_type": "code",
   "execution_count": null,
   "id": "5dd1aaf3",
   "metadata": {},
   "outputs": [],
   "source": [
    "#| export\n",
    "def view(\n",
    "    path:str, # Path to directory or file to view\n",
    "    view_range:tuple[int,int]=None, # Optional 1-indexed (start, end) line range for files, end=-1 for EOF\n",
    "    nums:bool=False # Whether to show line numbers\n",
    "):\n",
    "    'View directory or file contents with optional line range and numbers'\n",
    "    try:\n",
    "        p = Path(path).expanduser().resolve()\n",
    "        if not p.exists(): return f'Error: File not found: {p}'\n",
    "        header = None\n",
    "        if p.is_dir():\n",
    "            files = [str(f) for f in p.glob('**/*') \n",
    "                    if not any(part.startswith('.') for part in f.relative_to(p).parts)]\n",
    "            lines = files\n",
    "            header = f'Directory contents of {p}:'\n",
    "        else: lines = p.read_text().splitlines()\n",
    "        s, e = 1, len(lines)\n",
    "        if view_range:\n",
    "            s,e = view_range\n",
    "            if not (1<=s<=len(lines)): return f'Error: Invalid start line {s}'\n",
    "            if e!=-1 and not (s<=e<= len(lines)): return f'Error: Invalid end line {e}'\n",
    "            lines = lines[s-1:None if e==-1 else e]\n",
    "        if nums: lines = [f'{i+s:6d} │ {l}' for i, l in enumerate(lines)]\n",
    "        content = '\\n'.join(lines)\n",
    "        return f'{header}\\n{content}' if header else content\n",
    "    except Exception as e: return f'Error viewing: {str(e)}'"
   ]
  },
  {
   "cell_type": "markdown",
   "id": "99a1f0bb",
   "metadata": {},
   "source": [
    "You can specify line ranges and whether to have the output contain line numbers:"
   ]
  },
  {
   "cell_type": "code",
   "execution_count": null,
   "id": "7549c8bd",
   "metadata": {},
   "outputs": [
    {
     "name": "stdout",
     "output_type": "stream",
     "text": [
      "     1 │ project:\n",
      "     2 │   type: website\n",
      "     3 │   pre-render: \n",
      "     4 │     - pysym2md --output_file apilist.txt fastcore\n",
      "     5 │   post-render: \n",
      "     6 │     - llms_txt2ctx llms.txt --optional true --save_nbdev_fname llms-ctx-full.txt\n",
      "     7 │     - llms_txt2ctx llms.txt --save_nbdev_fname llms-ctx.txt\n",
      "     8 │   resources: \n",
      "     9 │     - \"*.txt\"\n",
      "    10 │   preview:\n"
     ]
    }
   ],
   "source": [
    "print(view('_quarto.yml', (1,10), nums=True))"
   ]
  },
  {
   "cell_type": "markdown",
   "id": "4b794ca3",
   "metadata": {},
   "source": [
    "Here's what the output looks like when viewing a directory:"
   ]
  },
  {
   "cell_type": "code",
   "execution_count": null,
   "id": "047970e0",
   "metadata": {},
   "outputs": [
    {
     "name": "stdout",
     "output_type": "stream",
     "text": [
      "Directory contents of /Users/jhoward/aai-ws/fastcore/nbs:\n",
      "/Users/jhoward/aai-ws/fastcore/nbs/llms.txt\n",
      "/Users/jhoward/aai-ws/fastcore/nbs/000_tour.ipynb\n",
      "/Users/jhoward/aai-ws/fastcore/nbs/parallel_test.py\n",
      "/Users/jhoward/aai-ws/fastcore/nbs/_quarto.yml\n",
      "/Users/jhoward/aai-ws/fastcore/nbs/08_style.ipynb\n"
     ]
    }
   ],
   "source": [
    "print(view('.', (1,5)))"
   ]
  },
  {
   "cell_type": "code",
   "execution_count": null,
   "id": "36f58e38",
   "metadata": {},
   "outputs": [],
   "source": [
    "#| export\n",
    "def create(\n",
    "    path: str, # Path where the new file should be created\n",
    "    file_text: str, # Content to write to the file\n",
    "    overwrite:bool=False # Whether to overwrite existing files\n",
    ") -> str:\n",
    "    'Creates a new file with the given content at the specified path'\n",
    "    try:\n",
    "        p = Path(path)\n",
    "        if p.exists():\n",
    "            if not overwrite: return f'Error: File already exists: {p}'\n",
    "        p.parent.mkdir(parents=True, exist_ok=True)\n",
    "        p.write_text(file_text)\n",
    "        return f'Created file {p}.'\n",
    "    except Exception as e: return f'Error creating file: {str(e)}'"
   ]
  },
  {
   "cell_type": "code",
   "execution_count": null,
   "id": "dae94280",
   "metadata": {},
   "outputs": [
    {
     "name": "stdout",
     "output_type": "stream",
     "text": [
      "Created file test.txt.\n",
      "Contents:\n",
      "      1 │ Hello, world!\n"
     ]
    }
   ],
   "source": [
    "print(create('test.txt', 'Hello, world!'))\n",
    "f = Path('test.txt')\n",
    "test_eq(f.exists(), True)\n",
    "print('Contents:\\n', view(f, nums=True))"
   ]
  },
  {
   "cell_type": "code",
   "execution_count": null,
   "id": "434147ef",
   "metadata": {},
   "outputs": [],
   "source": [
    "#| export\n",
    "def insert(\n",
    "    path: str, # Path to the file to modify\n",
    "    insert_line: int, # Line number where to insert (0-based indexing)\n",
    "    new_str: str # Text to insert at the specified line\n",
    ") -> str:\n",
    "    'Insert new_str at specified line number'\n",
    "    try:\n",
    "        p = Path(path)\n",
    "        if not p.exists(): return f'Error: File not found: {p}'\n",
    "        content = p.read_text().splitlines()\n",
    "        if not (0 <= insert_line <= len(content)): return f'Error: Invalid line number {insert_line}'\n",
    "        content.insert(insert_line, new_str)\n",
    "        new_content = '\\n'.join(content)\n",
    "        p.write_text(new_content)\n",
    "        return f'Inserted text at line {insert_line} in {p}'\n",
    "    except Exception as e: return f'Error inserting text: {str(e)}'"
   ]
  },
  {
   "cell_type": "code",
   "execution_count": null,
   "id": "6dc775d4",
   "metadata": {},
   "outputs": [
    {
     "name": "stdout",
     "output_type": "stream",
     "text": [
      "     1 │ Let's add a new line\n",
      "     2 │ Hello, world!\n"
     ]
    }
   ],
   "source": [
    "insert(f, 0, 'Let\\'s add a new line')\n",
    "print(view(f, nums=True))"
   ]
  },
  {
   "cell_type": "code",
   "execution_count": null,
   "id": "9272ff7d",
   "metadata": {},
   "outputs": [],
   "source": [
    "#| export\n",
    "def str_replace(\n",
    "    path: str, # Path to the file to modify\n",
    "    old_str: str, # Text to find and replace\n",
    "    new_str: str # Text to replace with\n",
    ") -> str:\n",
    "    'Replace first occurrence of old_str with new_str in file'\n",
    "    try:\n",
    "        p = Path(path)\n",
    "        if not p.exists(): return f'Error: File not found: {p}'\n",
    "        content = p.read_text()\n",
    "        count = content.count(old_str)\n",
    "        if count == 0: return 'Error: Text not found in file'\n",
    "        if count > 1: return f'Error: Multiple matches found ({count})'\n",
    "        new_content = content.replace(old_str, new_str, 1)\n",
    "        p.write_text(new_content)\n",
    "        return f'Replaced text in {p}'\n",
    "    except Exception as e: return f'Error replacing text: {str(e)}'"
   ]
  },
  {
   "cell_type": "code",
   "execution_count": null,
   "id": "e64d183b",
   "metadata": {},
   "outputs": [
    {
     "name": "stdout",
     "output_type": "stream",
     "text": [
      "     1 │ Let's add a \n",
      "     2 │ Hello, world!\n"
     ]
    }
   ],
   "source": [
    "str_replace(f, 'new line', '')\n",
    "print(view(f, nums=True))"
   ]
  },
  {
   "cell_type": "code",
   "execution_count": null,
   "id": "eb907119",
   "metadata": {},
   "outputs": [],
   "source": [
    "#| export\n",
    "def strs_replace(\n",
    "    path:str, # Path to the file to modify\n",
    "    old_strs:list[str], # List of strings to find and replace\n",
    "    new_strs:list[str], # List of replacement strings (must match length of old_strs)\n",
    "):\n",
    "    \"Replace for each str pair in old_strs,new_strs call `str_replace\"\n",
    "    res = [str_replace(path, old, new) for (old,new) in zip(old_strs,new_strs)]\n",
    "    return 'Results for each replacement:\\n' + '; '.join(res)"
   ]
  },
  {
   "cell_type": "code",
   "execution_count": null,
   "id": "4a261608",
   "metadata": {},
   "outputs": [
    {
     "name": "stdout",
     "output_type": "stream",
     "text": [
      "     1 │ Let's add a \n",
      "     2 │ Hello, friends!\n",
      "     3 │ Nice to see you.\n"
     ]
    }
   ],
   "source": [
    "strs_replace(f, [\"add a new line\", \"world!\"], [\"just say\", \"friends!\\nNice to see you.\"])\n",
    "print(view(f, nums=True))"
   ]
  },
  {
   "cell_type": "code",
   "execution_count": null,
   "id": "94dd09ed",
   "metadata": {},
   "outputs": [],
   "source": [
    "#| export\n",
    "def replace_lines(\n",
    "    path:str, # Path to the file to modify\n",
    "    start_line:int, # Starting line number to replace (1-based indexing)\n",
    "    end_line:int, # Ending line number to replace (1-based indexing, inclusive)\n",
    "    new_content:str, # New content to replace the specified lines\n",
    "):\n",
    "    \"Replace lines in file using start and end line-numbers (index starting at 1)\"\n",
    "    if not (p := Path(path)).exists(): return f\"Error: File not found: {p}\"\n",
    "    content = p.readlines()\n",
    "    if not new_content.endswith('\\n'): new_content+='\\n'\n",
    "    content[start_line-1:end_line] = [new_content]\n",
    "    p.write_text(''.join(content))\n",
    "    return f\"Replaced lines {start_line} to {end_line}.\""
   ]
  },
  {
   "cell_type": "code",
   "execution_count": null,
   "id": "852bcce0",
   "metadata": {},
   "outputs": [
    {
     "name": "stdout",
     "output_type": "stream",
     "text": [
      "     1 │ Replaced first two lines\n",
      "     2 │ Nice to see you.\n"
     ]
    }
   ],
   "source": [
    "replace_lines('test.txt', 1, 2, 'Replaced first two lines')\n",
    "print(view('test.txt', nums=True))"
   ]
  },
  {
   "cell_type": "code",
   "execution_count": null,
   "id": "5a506495",
   "metadata": {},
   "outputs": [],
   "source": [
    "f.unlink()"
   ]
  },
  {
   "cell_type": "code",
   "execution_count": null,
   "id": "4092b227",
   "metadata": {},
   "outputs": [],
   "source": [
    "#| hide\n",
    "for f,o in list(globals().items()):\n",
    "    if callable(o) and hasattr(o, '__module__') and o.__module__ == '__main__' and not f.startswith(('_', 'receive_')):\n",
    "        assert f == get_schema(globals()[f])['name']"
   ]
  },
  {
   "cell_type": "markdown",
   "id": "ed04dff5",
   "metadata": {},
   "source": [
    "## Export -"
   ]
  },
  {
   "cell_type": "code",
   "execution_count": null,
   "id": "0dd98654",
   "metadata": {},
   "outputs": [],
   "source": [
    "#|hide\n",
    "#|eval: false\n",
    "from nbdev import nbdev_export\n",
    "nbdev_export()"
   ]
  },
  {
   "cell_type": "code",
   "execution_count": null,
   "id": "874f949c",
   "metadata": {},
   "outputs": [],
   "source": []
  }
 ],
 "metadata": {
  "kernelspec": {
   "display_name": "python3",
   "language": "python",
   "name": "python3"
  }
 },
 "nbformat": 4,
 "nbformat_minor": 5
}
